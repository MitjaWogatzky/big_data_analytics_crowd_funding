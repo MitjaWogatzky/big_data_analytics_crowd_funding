{
 "cells": [
  {
   "cell_type": "code",
   "execution_count": null,
   "id": "certified-estimate",
   "metadata": {},
   "outputs": [],
   "source": [
    "# benötigte Bibliotheken importieren\n",
    "\n",
    "import numpy as np\n",
    "import pandas as pd\n",
    "import matplotlib.pyplot as plt\n",
    "import seaborn as sns\n",
    "import plotly_express as px"
   ]
  },
  {
   "cell_type": "markdown",
   "id": "derived-baptist",
   "metadata": {},
   "source": [
    "# Dateien importieren "
   ]
  },
  {
   "cell_type": "code",
   "execution_count": null,
   "id": "advanced-climb",
   "metadata": {},
   "outputs": [],
   "source": [
    "# Datei importieren\n",
    "\n",
    "df_final = pd.read_csv(\"df_final.csv\", sep=\",\", index_col=0)"
   ]
  },
  {
   "cell_type": "code",
   "execution_count": null,
   "id": "secret-mistake",
   "metadata": {},
   "outputs": [],
   "source": [
    "df_final.info()"
   ]
  },
  {
   "cell_type": "markdown",
   "id": "nutritional-border",
   "metadata": {},
   "source": [
    "# Datensatzgröße reduzieren"
   ]
  },
  {
   "cell_type": "code",
   "execution_count": null,
   "id": "cordless-solid",
   "metadata": {},
   "outputs": [],
   "source": [
    "# Datensatz zu groß -> Categorien umwandeln\n",
    "\n",
    "df_final[\"activity\"] = df_final[\"activity\"].astype(\"category\")\n",
    "df_final[\"sector\"] = df_final[\"sector\"].astype(\"category\")\n",
    "df_final[\"continent\"] = df_final[\"continent\"].astype(\"category\")\n",
    "df_final[\"country_code\"] = df_final[\"country_code\"].astype(\"category\")\n",
    "df_final[\"country\"] = df_final[\"country\"].astype(\"category\")\n",
    "df_final[\"currency\"] = df_final[\"currency\"].astype(\"category\")\n",
    "df_final[\"sex_majority\"] = df_final[\"sex_majority\"].astype(\"category\")\n",
    "df_final[\"repayment_interval\"] = df_final[\"repayment_interval\"].astype(\"category\")\n",
    "df_final[\"success_class\"] = df_final[\"success_class\"].astype(\"category\")\n",
    "df_final[\"team_category\"] = df_final[\"team_category\"].astype(\"category\")\n",
    "\n",
    "# \"Downcasting\" von int Datensätzen\n",
    "\n",
    "df_final[[\"funded_amount\", \"loan_amount\", \"success_ratio\", \"term_in_months\", \"lender_count\", \"team_count\", \"female\", \"male\"]] = df_final[[\"funded_amount\", \"loan_amount\", \"success_ratio\", \"term_in_months\", \"lender_count\", \"team_count\", \"female\", \"male\"]].apply(pd.to_numeric, downcast=\"unsigned\")"
   ]
  },
  {
   "cell_type": "code",
   "execution_count": null,
   "id": "material-library",
   "metadata": {},
   "outputs": [],
   "source": [
    "df_final.info()"
   ]
  },
  {
   "cell_type": "markdown",
   "id": "funky-forward",
   "metadata": {},
   "source": [
    "# Datenanalysen und Visualisierungen \n",
    "\n",
    "Im folgenden werden die Daten analysiert und die Erkenntnisse aus der jeweiligen Analyse unter der Graphik festgehalten. Am Ende erfolgt eine Zusammenfassung der wichtigsten Ergebnisse."
   ]
  },
  {
   "cell_type": "markdown",
   "id": "forbidden-brook",
   "metadata": {},
   "source": [
    "## Inhaltliche Einführung in die Daten"
   ]
  },
  {
   "cell_type": "code",
   "execution_count": null,
   "id": "neutral-cardiff",
   "metadata": {},
   "outputs": [],
   "source": [
    "df_final.head()"
   ]
  },
  {
   "cell_type": "markdown",
   "id": "solar-ceramic",
   "metadata": {},
   "source": [
    "### Zum Datensatz\n",
    "\n",
    "Thema des Datensatz ist crowdfunding. Hierbei handelt es sich um eine Finanzierungsform bei der verschiedene Investoren unterschiedliche Geldbeträge für bestimmte Projekte geben. Es ist also eine zweckgebunde Finanzierung. Grundlage ist die Historie einer Crowdfunding Plattform. Alle Projekte sind abgeschlossene Projekte, d.h. die Crowdfundingzeit ist abgelaufen.\n",
    "\n",
    "Der Datensatz beinhaltet 690.885 Projekte. \n",
    "\n",
    "Der Datensatz enthält folgende Spalten (inkl. Bedeutung):\n",
    "\n",
    "- funded_amount ... mit Ablauf der Crowdfundingzeit erhaltener Betrag in USD\n",
    "- loan_amount ... Zielbetrag (Betrag dem man mit Funding erreichen wollte) in USD\n",
    "- success_ratio ... Das funded_amount zu loan_amount, wie viel der gewünschten Summe wurde ausgezahlt \n",
    "- activity ... Unterkategory zu dem das Ziel des Crowdfunding thematisch gehört\n",
    "- continent ... Kontinent\n",
    "- sector ... Oberkategory in den das Crowdfunding Thema fällt\n",
    "- country_code ... Ländercode nach ISO Norm\n",
    "- country ... Ländername nach ISO Norm\n",
    "- currency ... Währung in den der funded_amount dann ausgezahlt wurde\n",
    "- term in months ... Dauer über die der Kredit ausgezahlt wurde\n",
    "- lender_count ...Darlehensgeber (also wieviele Personen Geld für das Projekt gegeben haben)\n",
    "- team_count ... Anzahl der Teammitglieder, derjenigen die das Crowdfundingprojekt initiiert haben\n",
    "- female ... Anzahl Frauen im Team\n",
    "- sex_majority ... Kategorisierung, ob in einem Team mehr Frauen oder Männer sind\n",
    "- male ... Anzahl Männer im Team\n",
    "- repayment interval ... Rückzahlungsmodalitäten/-rhythmus\n",
    "- success_class ... Kategorisierung nach success ratio < 50%, 50% <= success ratio < 100% und success ration = 100% \n",
    "- team_category ... Kategorisierung der Teamgröße nach Ein-Personen-Teams, Zwei bis fünf Personen Teams und Teams mit sechs Personen und mehr"
   ]
  },
  {
   "cell_type": "markdown",
   "id": "informed-canvas",
   "metadata": {},
   "source": [
    "### Verteilungsmaße der metrischen Variablen"
   ]
  },
  {
   "cell_type": "code",
   "execution_count": null,
   "id": "outer-village",
   "metadata": {},
   "outputs": [],
   "source": [
    "df_final.describe()"
   ]
  },
  {
   "cell_type": "markdown",
   "id": "capital-gregory",
   "metadata": {},
   "source": [
    "##### Erkenntnisse\n",
    "\n",
    "\n",
    "+ __funden_amount__: Die erhaltenen Finanzierungssummen liegen auf einem geringen Niveau. 75% der Projekte haben eine Finanzierungssumme von höchstens 925 US-Dollar, die Hälfte unter 475 US-Dollar. Es handelt sich also zum größten Teil um Kleinst-Kredite. Nur im oberen Quartil scheint es größere Summen zu geben. Der Druchschnitt beträgt 810, die Standardabweichung 1141 US-Dollar. Das heisst die Werte streuen sehr stark um den Mittelwert. Der Maximalwert beträgt 50.000 US-Dollar.\n",
    "+ __loan_amount__: Die gewünschten Finanzierungssumen liegen auf einem ähnlich geringem Niveau. Das dritte Quartil liegt bei 1.000, der Median bei 500 US-Dollar. Der Druchschnitt beträgt 868 US-Dollar, die Standardabweichung 1210. Der Maximalwert beträgt ebenfalls 50.000 US-Dollar. Auch hier streuen die Werte stark um den Mittelwert.\n",
    "+ __success_ratio__: Das Verhältnis von gewünschter Summe und erhaltener Summe liegt überwiegend bei 100% (erstes, zweites und drittes Quartil). Die meisten Kredite wurden also gewährt. Der Druchschnitt beträgt 96% und die Standardabweichung 15.  Der Maximalwert beträgt 113%. Das heisst, die Finanzierungssumme war höher als die gewünschte Summe.\n",
    "+ __termin_in_monts__: Dauer der Rückzahlung in Monaten. Der Großteil der Projekte hat eine Laufzeit bis zu 14 Monaten (drittes Quartil) und der Median liegt bei 13 Monaten. Der Druchschnitt beträgt 13,9 Monate. Dennoch liegt hier wieder eine hohe Standardabweichung von 8,7 Monaten vor. Der Maximlwert beträgt 158 Monate.\n",
    "+ __lender_count__: Die Anzahl der Darlehensgeber steigt bis zum dritten Quartil gleichmäßig an (erstes Quartil: 7, zweites Quartil 13 und drittes 25 Darlehensgeber). Auch hier streuen die Werte wieder stark, was man an der Differen von Median (13) und Durschnitt (21) sowie an der Standardabweichung von 29 erkennt. Auch hier gibt es wieder einen stark abweichenden Maximalwert von 1765 Darlehensgebern. <br>\n",
    "\n",
    "__Zusammenfassend__ ist zu sagen, dass es sich um überwiegend Kleinst-Kredite handelt mit zum Großteil einer Laufzeit von bis zu 14 Monaten. Der allergrößte Teil erhielt die gewünschte Finanzierungssumme bzw. nahezu 100%. Nur die oberen 25% der Variablen (funded_amount, loan_amount, term_in_months, lender_count) hatten eine stärkere Varianz. \n",
    "\n",
    "Die folgenden Variablen haben einen Datensatzgröße von 686.588 Projekten, was auf Nullwerte bei den Teamvariablen zurück zu führen ist. \n",
    "+ __team_count__: Die Teamgröße beschränkt sich bei mindestens 75% auf eine Person. Auch hier streuen die Werte wieder stark, was man an der Differen von Median (1) und Durschnitt (2) sowie an der Standardabweichung von 3,4 erkennt. Auch hier gibt es wieder einen stark abweichenden Maximalwert von 50 Teammitgliedern. \n",
    "+ __female__: (Teams mit mehr Frauen) Diese sind ähnlich verteilt, wie die Teamgröße. Die Teamgröße beschränkt sich bei mindestens 75% auf eine Person. Auch hier streuen die Werte wieder stark, was man an der Differen von Median (1) und Durschnitt (1,6) sowie an der Standardabweichung von 3 erkennt. Auch hier gibt es wieder einen stark abweichenden Maximalwert von 50 Teammitgliedern.\n",
    "+ __male__: (Teams mit mehr Männern): Teams mit überwiegend Männern sind wenig vertreten. Erstes und zweites Quartil sind jeweils 0. Erst ab dem dritten Quartil gibt es überhaupt Teams, bei denen es mehr männliche als weibliche Teammitglieder gibt. Der Mittelwert beträgt 0,4 und die Standardabweichung 1,1. Der Maximalwert 44. <br>\n",
    "\n",
    "__Zusammenfassend__ ist festzuhalten, dass es sich zum Großteil um Ein-Personen-Teams handelt. "
   ]
  },
  {
   "cell_type": "markdown",
   "id": "ready-father",
   "metadata": {},
   "source": [
    "### Pairplot metrischen Variablen"
   ]
  },
  {
   "cell_type": "code",
   "execution_count": null,
   "id": "fatal-longer",
   "metadata": {},
   "outputs": [],
   "source": [
    "sns.pairplot(data=df_final, corner=True) "
   ]
  },
  {
   "cell_type": "markdown",
   "id": "armed-district",
   "metadata": {},
   "source": [
    "##### Erkenntnisse\n",
    "\n",
    "Grundlegegend ist zu beachten, dass aufgrund der hohen Menge an Finanzierungsprojekten (690.885 Projekte) und somit ebenso großen Anzahl an Punkten je Graphik, eine Aussage nicht möglich ist, für Flächen mit dichten Punktewolken.  \n",
    "\n",
    "+ __funded_amount__ (Finanzierungssumme):<br>\n",
    "Der Großteil der finanzierten Projekte hat ein Volumen bis zu 10.000 US-Dollar. <br>\n",
    "Es gab keine Finanzierung, die höher lag, als der gewünschte Betrag; <br>\n",
    "Augenscheinlich gibt es einen __Zusammenhang zur Anzahl Darlehensgeber__ (lender_count) - je höher die Finanzierungssumme, desto höher die Anzahl der Darlehensgeber\n",
    "+ __success_ratio__ (Verhältnis von gewünschter Summe und erhaltener Summe): Der Löwenanteil der Projekte hat 100% der gewünschten Summe als Funding erhalten.\n",
    "+ __term_in_month__ (Dauer der Rückzahlung in Monaten): Der Großteil der Projekte hat eine Finanzierungsdauer unter 50 Monaten\n",
    "+ __team_count__ (Team Größe): Der Großteil der Projekte hat eine sehr kleine Teamgröße (ein bis zwei Personen); <br>\n",
    "Je größer die Teams, desto höher die Wahrscheinlichkeit, dass mehr Männer ein einem Team sind, als Frauen"
   ]
  },
  {
   "cell_type": "markdown",
   "id": "above-mixture",
   "metadata": {},
   "source": [
    "## Sektoren"
   ]
  },
  {
   "cell_type": "markdown",
   "id": "supported-tissue",
   "metadata": {},
   "source": [
    "### Anzahl Projekte je Sektor"
   ]
  },
  {
   "cell_type": "code",
   "execution_count": null,
   "id": "ordered-factor",
   "metadata": {},
   "outputs": [],
   "source": [
    "# nach Anzahl Projekte\n",
    "\n",
    "df_sector = df_final.groupby(\"sector\").agg({\"sector\":np.size, \"funded_amount\":np.sum})\n",
    "df_sector_rename = df_sector.rename(columns={\"sector\": \"amount_projects\"})\n",
    "df_sector = df_sector_rename.reset_index()\n",
    "df_sector_sorted = df_sector.sort_values(by=[\"amount_projects\"])\n",
    "#df_sector_sorted_fund = df_sector.sort_values(by=[\"funded_amount\"])\n",
    "\n",
    "sns.set(rc={'figure.figsize':(12,9)})\n",
    "sns.set_theme(style=\"whitegrid\")\n",
    "ax = sns.barplot(x=\"sector\", y=\"amount_projects\", data=df_sector_sorted, palette=\"Blues\", order=df_sector_sorted[\"sector\"])\n",
    "for item in ax.get_xticklabels(): item.set_rotation(45)\n",
    "for i, v in enumerate(df_sector_sorted[\"amount_projects\"].iteritems()):        \n",
    "    ax.text(i ,v[1], \"{:,}\".format(v[1]), color='darkred', va ='bottom', rotation=45)\n",
    "plt.tight_layout()\n",
    "plt.show()"
   ]
  },
  {
   "cell_type": "markdown",
   "id": "infinite-parent",
   "metadata": {},
   "source": [
    "##### Erkenntnisse\n",
    "\n",
    "+ Insgesamt gibt es __15 Sektoren__\n",
    "+ Die Sektoren, die mit großen Abstand am __meisten Projekte__ haben, sind Agriculture (184.176), Food (140.694) und Retail (126.261).\n",
    "+ Die Sektoren, die im Vergleich am __wenigsten Projekte__ haben sind Wholesale (641) und Entertainment (858)\n",
    "+ die übrigen 10 Sektoren liegen zwischen 6.524 und 46.477 Projekten.\n",
    "\n",
    "\n",
    "__Legende:__ <br>\n",
    "+ x-Achse: Sektoren<br>\n",
    "+ y- Achse: Anzahl Projekte je Sektor<br>"
   ]
  },
  {
   "cell_type": "markdown",
   "id": "worth-shirt",
   "metadata": {},
   "source": [
    "### Fundingsumme je Sektor"
   ]
  },
  {
   "cell_type": "code",
   "execution_count": null,
   "id": "advised-anime",
   "metadata": {},
   "outputs": [],
   "source": [
    "# nach Anzahl Projekte\n",
    "\n",
    "df_sector = df_final.groupby(\"sector\").agg({\"sector\":np.size, \"funded_amount\":np.sum})\n",
    "df_sector_rename = df_sector.rename(columns={\"sector\": \"amount_projects\"})\n",
    "df_sector = df_sector_rename.reset_index()\n",
    "df_sector_sorted = df_sector.sort_values(by=[\"funded_amount\"])\n",
    "#df_sector_sorted_fund = df_sector.sort_values(by=[\"funded_amount\"])\n",
    "\n",
    "sns.set(rc={'figure.figsize':(12,9)})\n",
    "sns.set_theme(style=\"whitegrid\")\n",
    "ax = sns.barplot(x=\"sector\", y=\"funded_amount\", data=df_sector_sorted, palette=\"Blues\", order=df_sector_sorted[\"sector\"])\n",
    "for item in ax.get_xticklabels(): item.set_rotation(45)\n",
    "for i, v in enumerate(df_sector_sorted[\"funded_amount\"].iteritems()):        \n",
    "    ax.text(i ,v[1], \"{:,}\".format(v[1]), color='darkred', va ='bottom', rotation=45)\n",
    "plt.tight_layout()\n",
    "plt.show()"
   ]
  },
  {
   "cell_type": "markdown",
   "id": "acknowledged-connecticut",
   "metadata": {},
   "source": [
    "##### Erkenntnisse\n",
    "\n",
    "+ Die absolute Fundinghöhe je Land bietet nahezu das selbe Bild, wie die Projektanzahl je Sektor.\n",
    "\n",
    "__Legende:__ <br>\n",
    "+ x-Achse: Sektoren<br>\n",
    "+ y- Achse: Absolute Fundingsumme je Sektor<br>"
   ]
  },
  {
   "cell_type": "markdown",
   "id": "basic-nutrition",
   "metadata": {},
   "source": [
    "### Fundingdurchschnitt"
   ]
  },
  {
   "cell_type": "code",
   "execution_count": null,
   "id": "concerned-popularity",
   "metadata": {},
   "outputs": [],
   "source": [
    "# Spalten erstellen\n",
    "df_sector = df_final.groupby(\"sector\").agg({\"sector\":np.size, \"funded_amount\":np.sum})\n",
    "funded_sum = df_sector[\"funded_amount\"].tolist()\n",
    "df_sector = df_final.groupby(\"sector\").agg({\"sector\":np.size, \"funded_amount\":np.mean})\n",
    "funded_mean = df_sector[\"funded_amount\"].tolist()\n",
    "df_sector = df_final.groupby(\"sector\").agg({\"sector\":np.size, \"funded_amount\":np.median})\n",
    "funded_median = df_sector[\"funded_amount\"].tolist()\n",
    "\n",
    "# DataFrame erstellen und Spalten einfügen\n",
    "df_sector = df_final.groupby(\"sector\").agg({\"sector\":np.size})\n",
    "df_sector = df_sector.rename(columns={\"sector\": \"amount_projects\"})\n",
    "df_sector_fund = df_sector.reset_index()\n",
    "df_sector_fund.insert(2,'funded_sum',funded_sum)\n",
    "df_sector_fund.insert(3,'funded_mean',funded_mean)\n",
    "df_sector_fund.insert(4,'funded_median',funded_median)\n",
    "df_sector_fund\n",
    "\n",
    "# Plotten\n",
    "fig = px.scatter(df_sector_fund, x=\"funded_mean\", y=\"amount_projects\", color=\"sector\", size=\"funded_sum\", \n",
    "           hover_name=\"sector\", size_max=60)\n",
    "fig.show()"
   ]
  },
  {
   "cell_type": "markdown",
   "id": "compressed-entry",
   "metadata": {},
   "source": [
    "##### Erkenntnisse\n",
    "\n",
    "+ Insgesamt ist das __Finanzierungsvolumen__ dieser Crowdfunding-Plattform __sehr niedrig__ und liegt im Durchschnitt je Sektor zwischen 392 und 1.455 US-Dollar. \n",
    "+ Die Sektoren mit der __höchsten durchschnittlichen Finanzierungssumme__ sind auch die beiden \"kleinsten\" Sektoren: Wholesale (1.455 US Dollar) und Entertainment (1.264 US Dollar)\n",
    "+ Der Sektor mit der deutlich __niedrigsten durchschnittlichen Finanzierungssumme__ ist Personal Use (392 US Dollar)\n",
    "+ Die __drei nach Finanzierungsvolumen und Projektanzahl größten Sektoren__ liegen in der Mitte der durchschnittlichen Finanzierungssummen: Agricultere (762 US Dollar), Food (878 US Dollar) und Retail (751 US Dollar)\n",
    "\n",
    "\n",
    "__Legende:__ <br>\n",
    "+ Die Graphik ist interaktiv. Durch klicken auf einen Kreis, werden die jeweiligen Sektoren dargestellt. <br>\n",
    "+ x-Achse: durchschnittliche Finanzierungssumme je Sektor<br>\n",
    "+ y- Achse: Anzahl Porjekte je Sektor<br>\n",
    "+ Kreisgröße: Absolute Finanzierungssumme je Sektor"
   ]
  },
  {
   "cell_type": "markdown",
   "id": "nuclear-concrete",
   "metadata": {},
   "source": [
    "### Finanzierungserfolg (erhaltene vs. gewünschte Summe)"
   ]
  },
  {
   "cell_type": "code",
   "execution_count": null,
   "id": "treated-limit",
   "metadata": {},
   "outputs": [],
   "source": [
    "# DataFrame für Verteilung erstellen\n",
    "df_success_ratio_sector = df_final.groupby(\"sector\").agg({\"success_ratio\":np.mean})\n",
    "\n",
    "# Barplot erstellen\n",
    "fig = px.bar(df_success_ratio_sector, \n",
    "             labels={'value':'sucess_ratio' , 'country_code':'sector'}, \n",
    "             height=500).update_xaxes(categoryorder=\"total ascending\")\n",
    "fig.show()"
   ]
  },
  {
   "cell_type": "markdown",
   "id": "after-valuable",
   "metadata": {},
   "source": [
    "##### ERKENNTNISSE\n",
    "\n",
    "+ Die gewünschte Finanzierungssumme wurde in allen Sektoren nahezu erreicht.\n",
    "+ Alle Sektoren haben eine Quote von 93,9%(Transportation) bis zu 99,5%.\n",
    "+ Einzig Entertainment liegt mit 89,1% unter der 90% Quote.  \n",
    "\n",
    "__Legende:__ <br>\n",
    "+ Die Graphik ist interaktiv. Durch klicken auf einen Balken, werden die jeweiligen Sektoren dargestellt. <br>\n",
    "+ x-Achse: Sektor <br>\n",
    "+ y-Achse: Finanzierungserfolg (erhaltene vs. gewünschte Summe) <br>"
   ]
  },
  {
   "cell_type": "markdown",
   "id": "experienced-execution",
   "metadata": {},
   "source": [
    "### Aktivitäten je Sektor"
   ]
  },
  {
   "cell_type": "code",
   "execution_count": null,
   "id": "polished-murder",
   "metadata": {},
   "outputs": [],
   "source": [
    "df_activity = df_final.groupby([\"sector\", \"activity\"]).agg({\"activity\":np.size, \"funded_amount\":np.mean})\n",
    "df_activity = df_activity.dropna()\n",
    "funded_mean = df_activity[\"funded_amount\"].tolist()\n",
    "df_activity = df_final.groupby([\"sector\", \"activity\"]).agg({\"activity\":np.size, \"funded_amount\":np.median})\n",
    "df_activity = df_activity.dropna()\n",
    "funded_median = df_activity[\"funded_amount\"].tolist()\n",
    "\n",
    "df_activity = df_final.groupby([\"sector\", \"activity\"]).agg({\"activity\":np.size, \"funded_amount\":np.sum})\n",
    "df_activ = df_activity.rename(columns={\"activity\": \"amount_projects\"})\n",
    "df_activity = df_activ.reset_index()\n",
    "df_activity = df_activity.loc[df_activity[\"funded_amount\"]!=0, :]\n",
    "df_activity.insert(4,'funded_mean',funded_mean)\n",
    "df_activity.insert(5,'funded_median',funded_median)\n",
    "df_activity = df_activity.sort_values(by=[\"funded_mean\"])\n",
    "df_activity_cut = df_activity.loc[df_activity[\"funded_median\"]< 1200, :]\n",
    "#df_activity = df_activity.loc[df_activity[\"activity\"]!=\"Renewable Energy Products\", :]\n",
    "#df_activity = df_activity.loc[df_activity[\"activity\"]!=\"Landscaping / Gardening\", :]\n",
    "\n",
    "fig = px.treemap(df_activity_cut, path=[px.Constant('Overall fundings'), 'sector', 'activity'], values='amount_projects',\n",
    "                  color='funded_median', hover_name=\"activity\")\n",
    "fig.show()"
   ]
  },
  {
   "cell_type": "markdown",
   "id": "handled-wedding",
   "metadata": {},
   "source": [
    "##### ERKENNTNISSE\n",
    "\n",
    "+ Innerhalb der Sektoren ergibt sich ein heterogenes Bild bzgl. des Median je Aktivität.\n",
    "+ Durch die Farben lassen sich einfach Aktivitäten mit hohem Median (z.B. Vehicel in Personal Use) oder niedrigem Median (z.B. Home Applications in Personal Use) erkennen.\n",
    "+ Die Sektoren sind unterschiedlich stark in Aktivitäten gegliedert. Retail vereint sehr viele Aktivitäten, Housing oder Education nur zwei oder drei Aktivitäten.\n",
    "\n",
    "__Legende:__ <br>\n",
    "+ Die Graphik ist interaktiv. Durch klicken auf den jeweiligen Sektor wird dieser vergrößert angezeigt.<br>\n",
    "+ Innerhalb der Sektoren finden sich die Aktivitäten je Sektor. <br>\n",
    "+ Die Größe der Rechtecke repräsentiert die Anzahl der Projekt je Sektor/Aktivität (je mehr Projekte, desto größer ist das Rechteck). <br>\n",
    "+ Die Farbe ist der __Median__ der Finanzierungssumme je Sektor/Aktivität, aufgrund sehr starker Abweichungen zwischen Durchschnitt und Median.<br>\n",
    "\n",
    "__Zur Datenbasis__: Insgesamt wurden acht Aktivitäten entfernt (Median >= 1.200 US-Dollar), da der Median vergleichsweise hoch war und die Graphik verzerrt hat. Diese werden im folgenden nach absteigendem Median aufgelistet."
   ]
  },
  {
   "cell_type": "code",
   "execution_count": null,
   "id": "hindu-discipline",
   "metadata": {},
   "outputs": [],
   "source": [
    "df_activity = df_activity.sort_values(by=[\"funded_median\"], ascending=False)\n",
    "df_activity.head(8)"
   ]
  },
  {
   "cell_type": "markdown",
   "id": "handy-model",
   "metadata": {},
   "source": [
    "## Kontinente und Länder"
   ]
  },
  {
   "cell_type": "markdown",
   "id": "computational-undergraduate",
   "metadata": {},
   "source": [
    "### Anzahl Projekte nach Kontinenten"
   ]
  },
  {
   "cell_type": "code",
   "execution_count": null,
   "id": "future-burns",
   "metadata": {},
   "outputs": [],
   "source": [
    "# Daten vorbereiten\n",
    "df_cont_count = df_final.groupby([\"continent\", \"country\"]).agg({\"continent\":np.size, \"funded_amount\":np.sum})\n",
    "df_cont_count_rename = df_cont_count.rename(columns={\"continent\": \"amount_projects\"})\n",
    "df_cont_count = df_cont_count_rename.reset_index()\n",
    "df_cont_count_sorted = df_cont_count.sort_values(by=[\"amount_projects\"])\n",
    "df_cont_count_sorted_fund = df_cont_count.sort_values(by=[\"funded_amount\"])\n",
    "\n",
    "# Plotten\n",
    "fig = px.bar(df_cont_count_sorted_fund, x=\"continent\", y=\"amount_projects\", hover_name=\"country\")\n",
    "fig.show()"
   ]
  },
  {
   "cell_type": "markdown",
   "id": "twenty-cinema",
   "metadata": {},
   "source": [
    "##### ERKENNTNISSE\n",
    "\n",
    "+ In __Asien__ wurden mit Abstand __am meisten Projekte__ durchgeführt, nahezu doppelt so viele wie im zweitplatzierten Afrika.\n",
    "+ Nord und Südamerika haben je etwa die Hälfte an Projekten wie Afrika und ein Viertel wie Asien.\n",
    "+ __Europa und Ozeanien ist minimal im Datensatz__ vertreten.\n",
    "+ Nordamerika beinhaltet bis auf die USA mit vergleichsweise wenigen Projekten nur Projekte aus mittelamerikanischen Ländern.\n",
    "+ Westliche und wirtschaftlich starke Nationen sind bis auf die USA nicht im Datensatz vertreten. \n",
    "+ Fünf Südamerikanischen Länder haben eine relativ gleiche Anzahl an Projekten auf hohem Niveau.\n",
    "+ Die __Länder mit den meisten Projekten__ sind die Philippienen (mit großem Abstand: mehr als Nord oder Südamerika insgesamt), klar gefolgt von Kenia und El Salvador.\n",
    "\n",
    "__Legende:__ <br>\n",
    "+ Die Graphik ist interaktiv. Durch klicken in die Balken, werden die jeweiligen Länder dargestellt. <br>\n",
    "+ x-Achse: Kontinente, gestapelt in Länder.<br>\n",
    "+ y-Achse: Anzahl Projekte"
   ]
  },
  {
   "cell_type": "markdown",
   "id": "handy-rubber",
   "metadata": {},
   "source": [
    "### Finanzierungssumme nach Kontinenten"
   ]
  },
  {
   "cell_type": "code",
   "execution_count": null,
   "id": "resistant-polymer",
   "metadata": {},
   "outputs": [],
   "source": [
    "# Daten vorbereiten\n",
    "df_cont_count = df_final.groupby([\"continent\", \"country\"]).agg({\"continent\":np.size, \"funded_amount\":np.sum})\n",
    "df_cont_count_rename = df_cont_count.rename(columns={\"continent\": \"amount_projects\"})\n",
    "df_cont_count = df_cont_count_rename.reset_index()\n",
    "df_cont_count_sorted = df_cont_count.sort_values(by=[\"amount_projects\"])\n",
    "df_cont_count_sorted_fund = df_cont_count.sort_values(by=[\"funded_amount\"])\n",
    "\n",
    "# Plotten\n",
    "fig = px.bar(df_cont_count_sorted_fund, x=\"continent\", y=\"funded_amount\", hover_name=\"country\")\n",
    "fig.show()"
   ]
  },
  {
   "cell_type": "markdown",
   "id": "written-interstate",
   "metadata": {},
   "source": [
    "##### ERKENNTNISSE\n",
    "\n",
    "+ Die Darstellung __in absoluter Finanzierungssumme__ je Kontinent gibt ein anderes, wesentlich __homogeners Bild__ ab. \n",
    "+ Asien ist auch hier an erster Stelle, jedoch nicht mit einem so starkem Abstand.\n",
    "+ Afrika, Südamerika und Nordamerika liegen fast gleich auf. \n",
    "+ Europa und Ozeanien ist weiterhin kaum vertreten.\n",
    "+ Phillippinen ist weiterhin die Nummer eins, jedoch mit kaum Abstand. \n",
    "+ Nach den Phillippinen gibt zahlreiche Länder mit annährend gleichem Niveau und der Übergang ist fließend.  \n",
    "\n",
    "__Legende:__ <br>\n",
    "+ Die Graphik ist interaktiv. Durch klicken in die Balken, werden die jeweiligen Länder dargestellt. <br>\n",
    "+ x-Achse: Kontinente, gestapelt in Länder.<br>\n",
    "+ y-Achse: Absolute Finanzierungssumme"
   ]
  },
  {
   "cell_type": "markdown",
   "id": "muslim-visit",
   "metadata": {},
   "source": [
    "### Finanzierungsdurchschnitt"
   ]
  },
  {
   "cell_type": "markdown",
   "id": "sunrise-harbor",
   "metadata": {},
   "source": [
    "#### Länder"
   ]
  },
  {
   "cell_type": "code",
   "execution_count": null,
   "id": "dangerous-august",
   "metadata": {},
   "outputs": [],
   "source": [
    "df_cont_count = df_final.groupby([\"continent\", \"country\"]).agg({\"continent\":np.size, \"funded_amount\":np.sum})\n",
    "funded_amount = df_cont_count[\"funded_amount\"].tolist()\n",
    "df_cont_count = df_final.groupby([\"continent\", \"country\"]).agg({\"continent\":np.size, \"funded_amount\":np.mean})\n",
    "country_mean = df_cont_count[\"funded_amount\"].tolist()\n",
    "df_cont_count = df_final.groupby([\"continent\", \"country\"]).agg({\"continent\":np.size, \"funded_amount\":np.median})\n",
    "country_median = df_cont_count[\"funded_amount\"].tolist()\n",
    "\n",
    "df_cont_count = df_final.groupby([\"continent\", \"country\"]).agg({\"country\":np.size})\n",
    "df_cont_count_rename = df_cont_count.rename(columns={\"country\": \"amount_projects\"})\n",
    "df_cont_count = df_cont_count_rename.reset_index()\n",
    "df_cont_count.insert(3,'funded_amount',funded_amount)\n",
    "df_cont_count.insert(4,'country_mean',country_mean)\n",
    "df_cont_count.insert(5,'country_median',country_median)\n",
    "df_cont_count = df_cont_count.sort_values(by=[\"funded_amount\"])\n",
    "df_cont_count = df_cont_count.loc[df_cont_count[\"funded_amount\"]!=0, :]\n",
    "df_cont_count = df_cont_count.loc[df_cont_count[\"country_mean\"]<15000, :]\n",
    "\n",
    "fig = px.scatter(df_cont_count, x=\"country_mean\", y=\"amount_projects\", color=\"continent\", size=\"funded_amount\", \n",
    "           hover_name=\"country\", log_x=True, size_max=60)\n",
    "fig.show()"
   ]
  },
  {
   "cell_type": "markdown",
   "id": "constitutional-congo",
   "metadata": {},
   "source": [
    "##### ERKENNTNISSE\n",
    "\n",
    "+ Die __durchschnittliche Finanzierungssumme__ reicht von 188 US-Dollar (Nigeria) bis zu 7.812 US Dollar (Buthan) \n",
    "\n",
    "__Legende:__ <br>\n",
    "+ Die Graphik ist interaktiv. Durch klicken auf die Kreise, werden die jeweiligen Länder dargestellt. E lässt sich in die + Grpahik zoomen.<br>\n",
    "+ x-Achse: Länder<br>\n",
    "+ y-Achse: Anzahl Projekte\n",
    "+ Kreisgröße: Absolute Finanzierungssumme je Land"
   ]
  },
  {
   "cell_type": "markdown",
   "id": "loose-component",
   "metadata": {},
   "source": [
    "#### Top 5 Länder - höchste und niedrigste Durchschnitte "
   ]
  },
  {
   "cell_type": "code",
   "execution_count": null,
   "id": "organizational-hardware",
   "metadata": {},
   "outputs": [],
   "source": [
    "df_cont_count = df_cont_count.sort_values(by=\"country_mean\")\n",
    "df_cont_count"
   ]
  },
  {
   "cell_type": "markdown",
   "id": "absolute-snake",
   "metadata": {},
   "source": [
    "#### Kontinente"
   ]
  },
  {
   "cell_type": "code",
   "execution_count": null,
   "id": "secret-pencil",
   "metadata": {},
   "outputs": [],
   "source": [
    "fig = px.scatter(df_cont_count, x=\"country_mean\", y=\"amount_projects\",\n",
    "           color=\"continent\", hover_name=\"country\", log_x=True, facet_col=\"continent\", size=\"funded_amount\")\n",
    "fig.show()"
   ]
  },
  {
   "cell_type": "markdown",
   "id": "continuing-politics",
   "metadata": {},
   "source": [
    "##### ERKENNTNISSE bzgl. durchschnittlichem Finanzierunsvolumen\n",
    "\n",
    "+ __Ozeanien__: von 395 US Dollar (Guam) bis 2.313 US Dollar (Vanatu) \n",
    "+ __Asien__: von 339 (Phillippinen) bis zu 7.812 US Dollar (Buthan). Philippinen hat mit Abstand die meisten Projekte, haben diese ein sehr geringes Volumen je Projekt. \n",
    "+ __Afrika__: von 188 US-Dollar (Nigeria) bis zu 6.143 (Congo) <br>\n",
    "Afrikanische Länder sind am breitesten verteilt und im gesamten Spektrum abgebildet. Die Verteilung ist gleichmäßig. \n",
    "+ __Süd Amerika__: von 567 (Colombia) bis zu 7.625 US Dollar (Chile). Wie bereits ersichtlich machen fünf Länder den Löwenanteil der Projekte aus. Diese sind in einem engeren Rahmen bzgl. durchschnittlichen Finanzierungsvolumen verteilt, von 567 (Columbia) bis 2.471 US Dollar (Paraguay)\n",
    "+ __Nord Amerika__: von 585 (Es Salvador) bis zu 4.409 (Puerto Rico). <br>\n",
    "Die USA haben mit 3.800 US Dollar durchschnittlichem Finanzierunsvolumen ein im Rahmen dieses Datensatzes überdurchschnittliches Volumen, doch als einzige Industrienation dennoch kein deutlich höheres Volumen als die anderen Länder \n",
    "+ __Europa__: von 437 (Türkei) bis zu 1.974 US Dollar (Moldavien) \n",
    "\n",
    "__Legende:__ <br>\n",
    "+ Die Graphik ist interaktiv. Durch klicken auf die Kreise, werden die jeweiligen Länder dargestellt. E lässt sich in die Grpahik zoomen.<br>\n",
    "+ x-Achse: Länder<br>\n",
    "+ y-Achse: Anzahl Projekte\n",
    "+ Kreisgröße: Absolute Finanzierungssumme je Land"
   ]
  },
  {
   "cell_type": "markdown",
   "id": "alien-power",
   "metadata": {},
   "source": [
    "### Finanzierungserfolg (erhaltene vs. gewünschte Summe)"
   ]
  },
  {
   "cell_type": "markdown",
   "id": "subsequent-doctrine",
   "metadata": {},
   "source": [
    "#### Je Kontinent"
   ]
  },
  {
   "cell_type": "code",
   "execution_count": null,
   "id": "focused-mention",
   "metadata": {},
   "outputs": [],
   "source": [
    "# DataFrame für Verteilung erstellen\n",
    "df_success_ratio = df_final.groupby(\"continent\").agg({\"success_ratio\":np.mean})\n",
    "\n",
    "# Barplot erstellen\n",
    "fig = px.bar(df_success_ratio, \n",
    "             labels={'value':'success_ratio', 'country_code':'continent'}, \n",
    "             height=500).update_xaxes(categoryorder=\"total ascending\")\n",
    "fig.show()"
   ]
  },
  {
   "cell_type": "markdown",
   "id": "bibliographic-convert",
   "metadata": {},
   "source": [
    "##### ERKENNTNISSE\n",
    "\n",
    "+ Alle Kontinente liegen zwischen 94,8% (Ozeanien) und 97,3% (Asien)\n",
    "+ Einzig Nordamerika weicht mit 91,7% etwas ab.<br>\n",
    "\n",
    "__Legende:__ <br>\n",
    "+ Die Graphik ist interaktiv. Durch klicken auf einen Balken, werden die jeweiligen Kontinente dargestellt. <br>\n",
    "+ x-Achse: Kontinent <br>\n",
    "+ y-Achse: Finanzierungserfolg (erhaltene vs. gewünschte Summe) <br>"
   ]
  },
  {
   "cell_type": "markdown",
   "id": "distinct-accounting",
   "metadata": {},
   "source": [
    "#### Je Land"
   ]
  },
  {
   "cell_type": "code",
   "execution_count": null,
   "id": "conventional-assurance",
   "metadata": {},
   "outputs": [],
   "source": [
    "# DataFrame für Verteilung erstellen\n",
    "df_success_na = df_final.groupby(\"country\").agg({\"success_ratio\":np.mean})\n",
    "\n",
    "# Barplot erstellen\n",
    "fig = px.bar(df_success_na, \n",
    "             labels={'value':'success_ratio', 'country_code':'country'}, \n",
    "             height=500).update_xaxes(categoryorder=\"total ascending\")\n",
    "fig.show()"
   ]
  },
  {
   "cell_type": "markdown",
   "id": "particular-plane",
   "metadata": {},
   "source": [
    "##### ERKENNTNISSE\n",
    "\n",
    "+ Der Großteil der Länder liegt über 90% \n",
    "+ Lediglich sieben Ländern haben eine Quote <90%: <br>\n",
    "Myanmar, Armenien: 88%<=Finanzierungsquote<90% <br>\n",
    "Puerto Rico, Bhutan, USA: 70%<=Finanzierungsquote<79%<br>\n",
    "Guam, Virgin Islands: 0%<=Finanzierungsquote<10%<br>\n",
    "Alle Kontinente liegen zwischen 94,8% (Ozeanien) und 97,3% (Asien)<br>\n",
    "+ Die niedrige Quote der USA als Land mit zweithöchsten Finanzierungsvolumen innerhalb Nordamerikas erklärt auch das Abweichen des Kontinents von den übrigen fünf Kontinenten.<br>\n",
    "\n",
    "__Legende:__ <br>\n",
    "+ Die Graphik ist interaktiv. Durch klicken auf einen Balken, werden die jeweiligen Länder dargestellt. <br>\n",
    "+ x-Achse: Land <br>\n",
    "+ y-Achse: Finanzierungserfolg (erhaltene vs. gewünschte Summe) <br>"
   ]
  },
  {
   "cell_type": "markdown",
   "id": "played-union",
   "metadata": {},
   "source": [
    "## Länder und Sektoren im Verhältnis"
   ]
  },
  {
   "cell_type": "code",
   "execution_count": null,
   "id": "seventh-princess",
   "metadata": {},
   "outputs": [],
   "source": [
    "# Vorbereitung der Daten\n",
    "df_count_sect = df_final.groupby([\"continent\", \"country\", \"sector\", \"activity\"]).agg({\"funded_amount\":np.mean, \"activity\":np.size})\n",
    "df_activ = df_count_sect.rename(columns={\"activity\": \"amount_projects\"})\n",
    "df_count_sect = df_activ.reset_index()\n",
    "df_count_sect = df_count_sect.dropna()\n",
    "df_count_sect = df_count_sect.sort_values(by=[\"funded_amount\"])\n",
    "df_count_sect[\"amount_projects\"] = df_count_sect[\"amount_projects\"].astype(\"float\")\n",
    "df_count_sect[\"funded_amount\"] = df_count_sect[\"funded_amount\"].astype(\"float\")\n",
    "df_count_sect[\"sector\"] = df_count_sect[\"sector\"].astype(\"object\")\n",
    "df_count_sect[\"activity\"] = df_count_sect[\"activity\"].astype(\"object\")\n",
    "df_count_sect_a = df_count_sect.loc[df_count_sect[\"funded_amount\"]< 1639, :] \n",
    "df_count_sect_b = df_count_sect.loc[(df_count_sect[\"funded_amount\"]>= 1639) & (df_count_sect[\"funded_amount\"]<10000)] \n",
    "df_count_sect_c = df_count_sect.loc[df_count_sect[\"funded_amount\"]>= 10000, :] \n",
    "#df_count_sect = df_count_sect.loc[df_count_sect[\"funded_amount\"]>0, :]"
   ]
  },
  {
   "cell_type": "markdown",
   "id": "fitting-george",
   "metadata": {},
   "source": [
    "### Aufteilung Projekte\n",
    "\n",
    "Für eine bessere Lesbarkeit der folgenden Graphike wurden die Projekte nach durchschnittlicher Finanzierungshöhe in drei Gruppen aufgeteilt:\n",
    "+ Projekte < 1.639 US Dollar. Entspricht 4.698 Projekten (bis drittes Quartil = untere 75% der Projekte)\n",
    "+ Projekte >= 1.639 und <10.000 US-Dollar. Entspricht 1.534 Projekten\n",
    "+ Projekte >= 10.000 US-Dollar.Entspricht 32 Projekten\n",
    "\n",
    "Die Graphiken kombinieren die bisherigen Erkenntnisse bzgl. der Projekt-Verteilungen nach Ländern bzw. Sektoren. \n",
    "Sie dienen dazu, sich einzelne Länder oder Kontinente detaillierte anschauen zu können. \n",
    "\n",
    "__Legende__:<br>\n",
    "+ Die Graphiken sind interaktiv. Durch das Klicken auf einen Kontinent/Land/Aktivität wird diese im Detail dargestellt. Über die obere Leiste kommt man wieder in die globale Ansicht zurück."
   ]
  },
  {
   "cell_type": "markdown",
   "id": "radio-program",
   "metadata": {},
   "source": [
    "### Durchschnittliche Finanzierung < 1.639 US-Dollar (drittes Quartil) \n",
    "Entspricht 4.698 Projekten (bis drittes Quartil = untere 75% der Projekte)"
   ]
  },
  {
   "cell_type": "code",
   "execution_count": null,
   "id": "beneficial-technician",
   "metadata": {},
   "outputs": [],
   "source": [
    "fig = px.treemap(df_count_sect_a, path=[px.Constant('world'), 'continent','country', 'sector'], values='amount_projects',\n",
    "                  color='funded_amount')\n",
    "fig.show()"
   ]
  },
  {
   "cell_type": "markdown",
   "id": "incorrect-hopkins",
   "metadata": {},
   "source": [
    "### Durchschnittliche Finanzierung >= 1.639 und < 10.000 US-Dollar\n",
    "Entspricht 1.534 Projekten"
   ]
  },
  {
   "cell_type": "code",
   "execution_count": null,
   "id": "greater-sacrifice",
   "metadata": {},
   "outputs": [],
   "source": [
    "fig = px.treemap(df_count_sect_b, path=[px.Constant('world'), 'continent','country', 'sector'], values='amount_projects',\n",
    "                  color='funded_amount')\n",
    "fig.show()"
   ]
  },
  {
   "cell_type": "markdown",
   "id": "south-section",
   "metadata": {},
   "source": [
    "### Durchschnittliche Finanzierung > 10.000 US-Dollar\n",
    "Entspricht 32 Projekten"
   ]
  },
  {
   "cell_type": "code",
   "execution_count": null,
   "id": "unknown-mountain",
   "metadata": {},
   "outputs": [],
   "source": [
    "fig = px.treemap(df_count_sect_c, path=[px.Constant('world'), 'continent','country', 'sector'], values='amount_projects',\n",
    "                  color='funded_amount')\n",
    "fig.show()"
   ]
  },
  {
   "cell_type": "markdown",
   "id": "governmental-washington",
   "metadata": {},
   "source": [
    "## Anzahl Darlehensgeber"
   ]
  },
  {
   "cell_type": "markdown",
   "id": "everyday-tooth",
   "metadata": {},
   "source": [
    "### Darlehenshöhe und Anzahl Darlehensgeber je Sektor"
   ]
  },
  {
   "cell_type": "code",
   "execution_count": null,
   "id": "photographic-intervention",
   "metadata": {},
   "outputs": [],
   "source": [
    "# Daten für ax1 vorbereiten\n",
    "df_funding_sector = df_final.groupby(\"sector\").agg({\"funded_amount\":np.mean})\n",
    "df_fund_sector_sorted = df_funding_sector.sort_values(by=[\"funded_amount\"], ascending=True)\n",
    "df_fund_sector_sorted\n",
    "\n",
    "# Daten für ax2 vorbereiten\n",
    "df_funding_lender = df_final.groupby(\"sector\").agg({\"lender_count\":np.mean,\"funded_amount\":np.mean})\n",
    "df_funding_lender_sorted = df_funding_lender.sort_values(by=[\"funded_amount\"], ascending=True)\n",
    "df_funding_lender_sorted\n",
    "\n",
    "# Plot erstellen\n",
    "fig, ax1 = plt.subplots(figsize=(10,8))\n",
    "sns.set_style(\"whitegrid\")\n",
    "sns.barplot(x=df_fund_sector_sorted.index, y=df_fund_sector_sorted[\"funded_amount\"], palette=\"Blues\",data=df_fund_sector_sorted, ax=ax1)\n",
    "\n",
    "ax1.xaxis.set_tick_params(rotation=70, labelsize=10)\n",
    "ax1.set_ylabel(\"Durchschnitt Darlehenshöhe in US-Dollar (Balken)\", fontsize=14)\n",
    "ax1.set_xlabel(\"Sektor\", fontsize=14)\n",
    "\n",
    "ax2 = ax1.twinx()\n",
    "ax2 = sns.lineplot(x=df_funding_lender_sorted.index, y=df_funding_lender_sorted[\"lender_count\"], data=df_funding_lender_sorted, color=\"darkred\")\n",
    "ax2.set_ylabel('Durchschnitt Anzahl Darlehensgeber (Linie)', fontsize=14)\n",
    "\n",
    "plt.show()"
   ]
  },
  {
   "cell_type": "markdown",
   "id": "extraordinary-cream",
   "metadata": {},
   "source": [
    "##### ERKENNTNISSE\n",
    "+ Aus dem Pairplot ging bereits augenscheinlich hervor, dass es einen Zusammenhang zwischen der Darlehenshöhe und der Anzahl der Darlehensgeber besteht.\n",
    "+ Dieser Zusammenhang besteht augenscheinlich ebenso je Sektor.\n",
    "+ Der Zusammenhang scheint sich zu den jeweiligen Polen zu verstärken. Je höher das durchschnittliche Darlehen, desto mehr Darlehensgeber (Wholesale) und umgekehrt (Personal Use). \n",
    "\n",
    "__Legende:__ <br>\n",
    "+ x-Achse: Sektoren.<br>\n",
    "+ y-Achse links: Durchschnitt Darlehenshöhe in US-Dollar (Balken) <br>\n",
    "+ y-Achse rechts: Durchschnitt Anzahl Darlehensgeber (Linie"
   ]
  },
  {
   "cell_type": "markdown",
   "id": "ordinary-period",
   "metadata": {},
   "source": [
    "### Darlehenshöhe und Anzahl Darlehensgeber je Land"
   ]
  },
  {
   "cell_type": "code",
   "execution_count": null,
   "id": "three-norway",
   "metadata": {},
   "outputs": [],
   "source": [
    "# Daten für ax1 vorbereiten\n",
    "df_funding_sector = df_final.groupby(\"country\").agg({\"funded_amount\":np.mean})\n",
    "df_fund_sector_sorted = df_funding_sector.sort_values(by=[\"funded_amount\"], ascending=True)\n",
    "\n",
    "# Daten für ax2 vorbereiten\n",
    "df_funding_lender = df_final.groupby(\"country\").agg({\"lender_count\":np.mean,\"funded_amount\":np.mean, \"loan_amount\":np.size})\n",
    "df_funding_lender_sorted = df_funding_lender.sort_values(by=[\"funded_amount\"], ascending=True)\n",
    "df_funding_lender_sorted\n",
    "\n",
    "# Plot erstellen\n",
    "fig, ax1 = plt.subplots(figsize=(14,9))\n",
    "sns.set_style(\"whitegrid\")\n",
    "sns.barplot(x=df_fund_sector_sorted.index, y=df_fund_sector_sorted[\"funded_amount\"], palette=\"Blues\",data=df_fund_sector_sorted, ax=ax1)\n",
    "\n",
    "ax1.xaxis.set_tick_params(rotation=70, labelsize=10)\n",
    "ax1.set_ylabel(\"Durchschnitt Darlehenshöhe in US-Dollar (Balken)\", fontsize=14)\n",
    "ax1.set_xlabel(\"Sektor\", fontsize=14)\n",
    "\n",
    "ax2 = ax1.twinx()\n",
    "ax2 = sns.lineplot(x=df_funding_lender_sorted.index, y=df_funding_lender_sorted[\"lender_count\"], data=df_funding_lender_sorted, color=\"darkred\")\n",
    "ax2.set_ylabel('Durchschnitt Anzahl Darlehensgeber (Linie)', fontsize=14)\n",
    "\n",
    "plt.show()"
   ]
  },
  {
   "cell_type": "markdown",
   "id": "joined-berry",
   "metadata": {},
   "source": [
    "##### ERKENNTNISSE\n",
    "+ Je Land ergibt sich ähnliches Bild, wie bereits bei den Sektoren: Es besteht augenscheinlich ein Zusammenhang zwischen der Darlehenshöhe und der Anzahl der Darlehensgeber besteht.\n",
    "+ Anders als bei den Sektoren scheint sich der Zusammenhang nicht zu den jeweiligen Polen zu verstärken, sondern steigt gleichmäßig mit der Höhe der durchschnittlichen Darlehenssumme \n",
    "\n",
    "__Legende:__ <br>\n",
    "+ x-Achse: Länder.<br>\n",
    "+ y-Achse links: Durchschnitt Darlehenshöhe in US-Dollar (Balken) <br>\n",
    "+ y-Achse rechts: Durchschnitt Anzahl Darlehensgeber (Linie)"
   ]
  },
  {
   "cell_type": "markdown",
   "id": "alpha-needle",
   "metadata": {},
   "source": [
    "### Anzahl Darlehensgeber: erfolgreiche vs. nicht erfolgreiche Finanzierung (<50%)"
   ]
  },
  {
   "cell_type": "code",
   "execution_count": null,
   "id": "adaptive-radical",
   "metadata": {},
   "outputs": [],
   "source": [
    "# Daten vorbereiten\n",
    "\n",
    "# Elfenbeinküste, Mauretanien, Buthan und Afghanistan entfernen, da sie bis zu 17 mal so viele Darlehensgeber hat, \n",
    "# wie die anderen 95% der Länder und somit die Graphik stark verzerrt. Virgin Islands entfernen, da keine \n",
    "# Projekte gefördert wurden. Die Entferrnungen haben keinen Einfluss auf die Aussage der Graphik.\n",
    "df_fin_len = df_final.copy()\n",
    "df_fin_len = df_fin_len.loc[df_fin_len[\"country_code\"]!=\"CI\",:]\n",
    "df_fin_len = df_fin_len.loc[df_fin_len[\"country_code\"]!=\"MR\",:]\n",
    "df_fin_len = df_fin_len.loc[df_fin_len[\"country_code\"]!=\"BT\",:]\n",
    "df_fin_len = df_fin_len.loc[df_fin_len[\"country_code\"]!=\"AF\",:]\n",
    "df_fin_len = df_fin_len.loc[df_fin_len[\"country_code\"]!=\"VI\",:]\n",
    "\n",
    "# DataFrame mit erfolgreichen Fundings (Erfolgsquote = 100%), mit wenig erfolgreichen (Erfolgsquote < 50%) \n",
    "# und dazwischen liegenden erstellen\n",
    "df_success = df_fin_len.loc[df_fin_len[\"success_classes\"]==\"Gleich100\",:]\n",
    "df_no_success = df_fin_len.loc[df_fin_len[\"success_classes\"]==\"KleinerGleich50\",:]\n",
    "\n",
    "# Daten für ax1\n",
    "df_fund_country = df_fin_len.groupby(\"country\").agg({\"lender_count\":np.mean, \"funded_amount\":np.mean})\n",
    "df_fund_country_sorted = df_fund_country.sort_values(by=[\"funded_amount\"], ascending=True)\n",
    "\n",
    "# Daten für ax2_success \n",
    "df_succ_sect = df_success.groupby(\"country\").agg({\"lender_count\":np.mean, \"funded_amount\":np.mean})\n",
    "df_succ_sect_sorted = df_succ_sect.sort_values(by=[\"funded_amount\"], ascending=True)\n",
    "\n",
    "# Daten für ax3_no_success \n",
    "df_no_succ_sect = df_no_success.groupby(\"country\").agg({\"lender_count\":np.mean, \"funded_amount\":np.mean})\n",
    "df_no_succ_sect_sorted = df_no_succ_sect.sort_values(by=[\"funded_amount\"], ascending=True)\n",
    "\n",
    "# Daten plotten\n",
    "fig, ax1 = plt.subplots(figsize=(15,12))\n",
    "sns.set_style(\"whitegrid\")\n",
    "sns.barplot(x=df_fund_country_sorted.index, y=df_fund_country_sorted[\"lender_count\"], color=\"grey\",data=df_fund_country_sorted, ax=ax1)\n",
    "\n",
    "ax1.xaxis.set_tick_params(rotation=90, labelsize=9)\n",
    "ax1.set_xlabel(\"Länder\", fontsize=14)\n",
    "ax1.set_ylabel(\"Durchschnitt Anzahl Darlehensgeber: alle Projekte(graue Balken)\", fontsize=14)\n",
    "\n",
    "ax2 = ax1.twinx()\n",
    "ax2 = sns.lineplot(x=df_succ_sect_sorted.index, y=df_succ_sect_sorted[\"lender_count\"], data=df_succ_sect_sorted, color=\"lightcoral\")\n",
    "ax2.set_ylabel('Durchschnitt Anzahl Darlehensgeber: erfolgreiche Projekte (100%, rosa), nicht erfolgreiche Projekte(50%, rot)', fontsize=14)\n",
    "\n",
    "ax3 = sns.lineplot(x=df_no_succ_sect_sorted.index, y=df_no_succ_sect_sorted[\"lender_count\"], data=df_no_succ_sect_sorted, color=\"darkred\")\n",
    "\n",
    "plt.show()"
   ]
  },
  {
   "cell_type": "markdown",
   "id": "vulnerable-diagram",
   "metadata": {},
   "source": [
    "##### Erkenntnisse\n",
    "\n",
    "- Weniger erfolgreiche Teams haben in fast allen Ländern __deutlich weniger Darlehensgeber__. Dies scheint schlüssig, da sie ggf. weniger Personen für Ihre Idee gewinnen konnten. Ein anderer Grund könnte sein, dass mehr Personen eher in der Lage sind, eine Idee angemessen zu bewerten. \n",
    "\n",
    "- Die __Unterschiede je Land sind sehr hetegerogen__. Hier könnte weitere Analyse Anhaltspunkte geben, z.B. spielt höchstwahrscheinlich die Darlehenshöhe hier wiederum eine Rollen. Eine Betrachtung je Kontinent und somit kulturelle Hintergründe könnte weiteren Aufschluss geben.\n",
    "\n",
    "__Legende:__ <br>\n",
    "+ x-Achse: Länder.<br>\n",
    "+ y-Achse links (graue Balken): Durchschnitt Anzahl Darlehensgeber alle Projekte <br>\n",
    "+ y-Achse rechts (rosa Linie): Durchschnitt Anzahl Darlehensgeber Projekte 100% Finanzierung <br>\n",
    "+ y-Achse rechts (rote Linie): Durchschnitt Anzahl Darlehensgeber Projekte 50% Finanzierung <br>\n",
    "\n",
    "__Datenbasis__: Elfenbeinküste, Mauretanien, Buthan und Afghanistan wurden aus der Analyse ausgeschlossen, da sie bis zu 17 mal so viele Darlehensgeber haben, wie die anderen 95% der Länder und die Graphik stark verzerrt. Virgin Islands wurde entfernt, da keine Projekte gefördert wurden. Es verbleiben 82 von 87 Ländern. Die Entferrnungen haben keinen Einfluss auf die Aussage der Graphik."
   ]
  },
  {
   "cell_type": "markdown",
   "id": "spectacular-petite",
   "metadata": {},
   "source": [
    "## Geschlecht, Teamgröße & Kreditrückzahlungsart"
   ]
  },
  {
   "cell_type": "markdown",
   "id": "excellent-experience",
   "metadata": {},
   "source": [
    "### Geschlecht und Teamgröße"
   ]
  },
  {
   "cell_type": "code",
   "execution_count": null,
   "id": "grateful-demonstration",
   "metadata": {},
   "outputs": [],
   "source": [
    "# Variable Projektanzahl einfügen und Nullwrete entfernen\n",
    "df_final_test = df_final.copy()\n",
    "df_final_test[\"project_count\"] = 1\n",
    "df_final_test = df_final_test.dropna()\n",
    "\n",
    "fig = px.sunburst(df_final_test, path=['sex_majority', 'team_category'], values='project_count')\n",
    "fig.show()"
   ]
  },
  {
   "cell_type": "markdown",
   "id": "traditional-liberia",
   "metadata": {},
   "source": [
    "##### ERKENNTNISSE\n",
    "+ __Geschlecht__: Über zwei Drittel aller Projekte wird von Frauen bzw. von Teams durchgeführt, in denen mehr Frauen als Männer sind.\n",
    "+ __Team Größe__: Bei Teams, deren Einzelpersonen Männer sind oder mehr Männer in Teams sind als Frauen, gibt es mehr „Einpersonen-Teams\", als dies bei Frauen oder Frauen dominierten Teams der Fall ist.  \n",
    "\n",
    "__Legende:__ <br>\n",
    "Die Graphik ist interaktiv. Durch klicken in Elemente des inneren Kreises, wird die Verteilung des jeweiligen Elements angezeigt. \n",
    "+ Der innere Kreis gibt das Geschlecht wieder. Hierbei wird unterschieden, welches Geschlecht in einem Team häufiger vertreten ist.\n",
    "+ Der äußere Kreis gibt die Teamkategorien wieder (1 Person, 2 bis 5 Personen, 6 und mehr Personen)\n",
    "\n",
    "__Zur Datenbasis__: Aus dem Datensatz wurden 27.500 Datensätze entfernt (4% des Gesamt-Datensatzen), da diese Datensätze Nullwerte bei beiden verwendeten Variablen enthielten."
   ]
  },
  {
   "cell_type": "markdown",
   "id": "democratic-importance",
   "metadata": {},
   "source": [
    "### Verteilung Geschlecht je Kontinent"
   ]
  },
  {
   "cell_type": "code",
   "execution_count": null,
   "id": "loaded-birthday",
   "metadata": {},
   "outputs": [],
   "source": [
    "# Daten vorbereiten\n",
    "df_cont_count = df_final.groupby([\"continent\", \"country\", \"sex_majority\"]).agg({\"continent\":np.size, \"funded_amount\":np.sum})\n",
    "df_cont_count_rename = df_cont_count.rename(columns={\"continent\": \"amount_projects\"})\n",
    "df_cont_count = df_cont_count_rename.reset_index()\n",
    "df_cont_count_sorted = df_cont_count.sort_values(by=[\"amount_projects\"])\n",
    "df_cont_count_sorted_fund = df_cont_count.sort_values(by=[\"funded_amount\"])\n",
    "\n",
    "# Plotten\n",
    "fig = px.bar(df_cont_count_sorted_fund, x=\"continent\", y=\"amount_projects\", color=\"sex_majority\", barmode=\"group\", hover_name=\"country\")\n",
    "fig.show()"
   ]
  },
  {
   "cell_type": "markdown",
   "id": "transparent-action",
   "metadata": {},
   "source": [
    "##### ERKENNTNISSE\n",
    "+ In jedem Kontinent gibt es mehr Frauen- als Männerdominierte Teams.\n",
    "+ Besonders in Asien ist der Frauenanteil circa sechsmal so hoch, wie bei Männern. Dabei machen wiederum die Philippinen  die Hälfte der Projekte aus. \n",
    "+ Bei allen anderen Kontinenten ist die Anzahl der Frauendominierten Projekte circa doppelt so hoch, wie bei den Männerdomierten Projekten.\n",
    "+ Ein Grund für den hohen Frauenanteil könnte der Entwicklungstand der Länder sein. So gut wie alle Länder sind Schwellenländer oder Entwicklungsländer, bei denen ggf. die Frauen beschränktere Verdienstmöglichkeiten haben und daher selber Projekte starten. Dies würde auch die kleine Teamgröße von überwiegend ein Personenteams erklären.   \n",
    "\n",
    "__Legende:__ <br>\n",
    "Die Graphik ist interaktiv. Durch klicken in die Balken, werden die jeweiligen Länder angezeigt. \n",
    "+ x-Achse: Kontinente, gestappelt nach Ländern, und unterschieden nach Teams mit größerem Frauenanteil, bzw Männeranteil. Aus vorherigen Analysen wissen wir, dass es sich meist um ein Personen Teams handelt. \n",
    "+ y-Achse: Anzahl Projekte.\n",
    "\n",
    "__Zur Datenbasis__: Aus dem Datensatz wurden 27.500 Datensätze entfernt (4% des Gesamt-Datensatzen), da diese Datensätze Nullwerte bei beiden verwendeten Variablen enthielten."
   ]
  },
  {
   "cell_type": "markdown",
   "id": "general-patient",
   "metadata": {},
   "source": [
    "### Rückzahlungmodus bzgl. Anzahl Darlehensgeber"
   ]
  },
  {
   "cell_type": "code",
   "execution_count": null,
   "id": "lined-somerset",
   "metadata": {},
   "outputs": [],
   "source": [
    "fig = px.sunburst(df_final_test, path=['repayment_interval', 'lender_count'], values='project_count')\n",
    "fig.show()"
   ]
  },
  {
   "cell_type": "markdown",
   "id": "verified-burke",
   "metadata": {},
   "source": [
    "##### Erkenntnisse\n",
    "+ Monatliche Rückzahlung ist mit 50% die häufigste Rückzahlungsart, gefolgt von irregulären Rückzahlung. Wöchentliche Rückzahlung sind minimal vertreten.\n",
    "+ Darlehen die nur von einer Person gewährt werden, finden sich überwiegend bei irregulären Rückzahlungen. \n",
    "\n",
    "__Legende:__ <br>\n",
    "Die Graphik ist interaktiv. Durch klicken in Elemente des inneren Kreises, wird die Verteilung des jeweiligen Elements angezeigt. \n",
    "+ Der innere Kreis gibt den Rückzahlungsmodus wieder (Monatliche, wöchentliche Rückzahlung, Bullet (Endfälliges Darlehen: gesamter Darlehensbetrag wird erst am Ende der Darlehenslaufzeit fällig) und unregelmäßige Rückzahlung)\n",
    "+ Der äußere Kreis gibt die Anzahl der Darlehensgeber wieder. \n",
    "\n",
    "__Zur Datenbasis__: Aus dem Datensatz wurden 27.500 Datensätze entfernt (4% des Gesamt-Datensatzen), da diese Datensätze Nullwerte bei beiden verwendeten Variablen enthielten."
   ]
  },
  {
   "cell_type": "markdown",
   "id": "coastal-arkansas",
   "metadata": {},
   "source": [
    "### Rückzahlungmodus bzgl. Geschlecht und Teamgröße"
   ]
  },
  {
   "cell_type": "code",
   "execution_count": null,
   "id": "linear-possibility",
   "metadata": {},
   "outputs": [],
   "source": [
    "# Daten vorbereiten\n",
    "df_facetplot = df_final.copy()\n",
    "df_facetplot[\"project_count\"] = 1\n",
    "df_facetplot_oNaN = df_facetplot.dropna(0)\n",
    "df_team_credit_cond = df_facetplot_oNaN.groupby([\"sex_majority\", \"team_category\", \n",
    "                                                 \"repayment_interval\"]).agg({\"project_count\":np.size})\n",
    "df_team_credit_cond.reset_index(inplace=True)\n",
    "\n",
    "# Daten plotten\n",
    "fig = px.bar(df_team_credit_cond, x=\"team_category\", y=\"project_count\", color=\"sex_majority\", barmode=\"group\", facet_col=\"repayment_interval\", \n",
    "       category_orders={\"repayment_interval\": [\"bullet\", \"irregular\", \"monthly\", \"weekly\"]})\n",
    "fig.show()"
   ]
  },
  {
   "cell_type": "markdown",
   "id": "infrared-terrace",
   "metadata": {},
   "source": [
    "##### Erkenntnisse\n",
    "+ __Frauen__ scheinen mehr individuelle Bedingungen (irregular repayment) zu erhalten.\n",
    "+ __Männer__ erhalten eher einen monatlichen Kreditrückzahlungsmodus und insbesondere einen Bullet-Kredit erhalten. Der Anteil der Männerdominierten Teams ist bei diesen Finanzierungsformen größer.\n",
    "- __Bulletkredite__ gehen weniger an Einzelpersonen als bei den anderen Kreditformen. Bulletkredite werden eher für Gründungen mit unregelmäßigen Rückflüssen verwendet. Dies könnte für komplexere Projekte sprechen, bei denen  spezifischen Fachwissen und somit mehr Personen von Nöten sind und bei denen erst zu einem späteren Zeitpunkt die Leistung abgeliefert wird (z.B. die Lieferung eines Systems). \n",
    "\n",
    "__Legende:__ <br>\n",
    "+ x-Achse: Teamgrößenklassen\n",
    "+ y-Achste: Anzahl Projekte\n",
    "+ Einzelne Boxen: Art der Darlehensrückzahlung: Bullet (Endfälliges Darlehen: gesamter Darlehensbetrag wird erst am Ende der Darlehenslaufzeit fällig), unregelmäßige Rückzahlung, monatliche und wöchentliche Rückzahlung.\n",
    "\n",
    "__Zur Datenbasis__: Aus dem Datensatz wurden 27.500 Datensätze entfernt (4% des Gesamt-Datensatzen), da diese Datensätze Nullwerte bei beiden verwendeten Variablen enthielten."
   ]
  },
  {
   "cell_type": "markdown",
   "id": "previous-questionnaire",
   "metadata": {},
   "source": [
    "### Geschlecht und Finanzierungserfolg"
   ]
  },
  {
   "cell_type": "code",
   "execution_count": null,
   "id": "outer-paradise",
   "metadata": {},
   "outputs": [],
   "source": [
    "fig = px.sunburst(df_final_test, path=['success_classes', 'sex_majority'], values='project_count')\n",
    "fig.show()"
   ]
  },
  {
   "cell_type": "markdown",
   "id": "fundamental-demand",
   "metadata": {},
   "source": [
    "##### Erkenntnisse\n",
    "+ Bei Projekten, die 100% der gewünschten Finanzierungssumme erhalten haben ist der Anteil mit Frauendominierten Teams deutlich höher (circa 75%) als bei Projekten, die nicht die gewünschte Finanzierungssumme erhalten haben. Hier ist die Verteilung circa 50% Frauen- und 50% Männerdominierte Teams.\n",
    "+ Ausgehend von dieser Übersicht sind Frauendominierte Teams erfolgreicher im Erhalt der gewünschten Finanzierungssumme.\n",
    "\n",
    "__Legende:__ <br>\n",
    "Die Graphik ist interaktiv. Durch klicken in Elemente des inneren Kreises, wird die Verteilung des jeweiligen Elements angezeigt. \n",
    "+ Der innere Kreis gibt die Projekte wieder, die Verteilung der erreichten Finanzierungsumme wieder (100%, kleiner 100% und größer 50%, kleiner 50%). \n",
    "+ Der äußere Kreis gibt wieder, ob in einem Team mehr Frauen oder Männer sind. "
   ]
  },
  {
   "cell_type": "markdown",
   "id": "wired-melbourne",
   "metadata": {},
   "source": [
    "### Geschlecht je Land und Sektor"
   ]
  },
  {
   "cell_type": "markdown",
   "id": "worst-paragraph",
   "metadata": {},
   "source": [
    "### Aufteilung Projekte\n",
    "\n",
    "Für eine bessere Lesbarkeit der folgenden Graphike wurden die Projekte nach durchschnittlicher Finanzierungshöhe in drei Gruppen aufgeteilt:\n",
    "+ Projekte < 1.639 US Dollar. Entspricht 4.698 Projekten (bis drittes Quartil = untere 75% der Projekte)\n",
    "+ Projekte >= 1.639 und <10.000 US-Dollar. Entspricht 1.534 Projekten\n",
    "+ Projekte >= 10.000 US-Dollar.Entspricht 32 Projekten\n",
    "\n",
    "Die Graphiken kombinieren die bisherigen Erkenntnisse bzgl. der Projekt-Verteilungen nach Ländern und Teamzusammensetzung hinsichtlich Geschlecht (sind in einem Team mehr Frauen oder Männer). \n",
    "Sie dienen dazu, sich einzelne Länder oder Kontinente detaillierte anschauen zu können. \n",
    "\n",
    "__Legende__:<br>\n",
    "+ Die Graphiken sind interaktiv. Durch das Klicken auf einen Kontinent/Land/Aktivität wird diese im Detail dargestellt. Über die obere Leiste kommt man wieder in die globale Ansicht zurück."
   ]
  },
  {
   "cell_type": "code",
   "execution_count": null,
   "id": "successful-experience",
   "metadata": {},
   "outputs": [],
   "source": [
    "# Vorbereitung der Daten\n",
    "df_count_sect = df_final.groupby([\"continent\", \"country\", \"sector\", \"sex_majority\"]).agg({\"funded_amount\":np.mean, \"sex_majority\":np.size})\n",
    "df_activ = df_count_sect.rename(columns={\"sex_majority\": \"amount_projects\"})\n",
    "df_count_sect = df_activ.reset_index()\n",
    "df_count_sect = df_count_sect.dropna()\n",
    "df_count_sect = df_count_sect.sort_values(by=[\"funded_amount\"])\n",
    "df_count_sect[\"amount_projects\"] = df_count_sect[\"amount_projects\"].astype(\"float\")\n",
    "df_count_sect[\"funded_amount\"] = df_count_sect[\"funded_amount\"].astype(\"float\")\n",
    "df_count_sect[\"sector\"] = df_count_sect[\"sector\"].astype(\"object\")\n",
    "df_count_sect[\"sex_majority\"] = df_count_sect[\"sex_majority\"].astype(\"object\")\n",
    "df_count_sect_a = df_count_sect.loc[df_count_sect[\"funded_amount\"]< 1639, :] \n",
    "df_count_sect_b = df_count_sect.loc[(df_count_sect[\"funded_amount\"]>= 1639) & (df_count_sect[\"funded_amount\"]<10000)] \n",
    "df_count_sect_c = df_count_sect.loc[df_count_sect[\"funded_amount\"]>= 10000, :] \n",
    "#df_count_sect = df_count_sect.loc[df_count_sect[\"funded_amount\"]>0, :]"
   ]
  },
  {
   "cell_type": "markdown",
   "id": "voluntary-heading",
   "metadata": {},
   "source": [
    "#### Durchschnittliche Finanzierung < 1.639 US-Dollar (drittes Quartil) \n",
    "Entspricht 4.698 Projekten (bis drittes Quartil = untere 75% der Projekte)"
   ]
  },
  {
   "cell_type": "code",
   "execution_count": null,
   "id": "sunset-poetry",
   "metadata": {},
   "outputs": [],
   "source": [
    "fig = px.treemap(df_count_sect_a, path=[px.Constant('world'), 'continent','country', 'sector', 'sex_majority'], values='amount_projects',\n",
    "                  color='funded_amount')\n",
    "fig.show()"
   ]
  },
  {
   "cell_type": "markdown",
   "id": "military-museum",
   "metadata": {},
   "source": [
    "#### Durchschnittliche Finanzierung >= 1.639 und < 10.000 US-Dollar\n",
    "Entspricht 1.534 Projekten"
   ]
  },
  {
   "cell_type": "code",
   "execution_count": null,
   "id": "operational-density",
   "metadata": {},
   "outputs": [],
   "source": [
    "fig = px.treemap(df_count_sect_b, path=[px.Constant('world'), 'continent','country', 'sector', 'sex_majority'], values='amount_projects',\n",
    "                  color='funded_amount')\n",
    "fig.show()"
   ]
  },
  {
   "cell_type": "markdown",
   "id": "attended-consensus",
   "metadata": {},
   "source": [
    "#### Durchschnittliche Finanzierung > 10.000 US-Dollar\n",
    "Entspricht 32 Projekten"
   ]
  },
  {
   "cell_type": "code",
   "execution_count": null,
   "id": "advanced-moment",
   "metadata": {},
   "outputs": [],
   "source": [
    "fig = px.treemap(df_count_sect_c, path=[px.Constant('world'), 'continent','country', 'sector', 'sex_majority'], values='amount_projects',\n",
    "                  color='funded_amount')\n",
    "fig.show()"
   ]
  },
  {
   "cell_type": "markdown",
   "id": "critical-sterling",
   "metadata": {},
   "source": [
    "##### Erkenntnisse\n",
    "+ Wie im gesamten Datensatz sind in den meisten Ländern Frauendominierte Teams in der Überzahl.\n",
    "+ Erst bei Projekten über 10.000 Finanzierungsumme tauchen häufiger Männerdominierte Teams auf. \n",
    "+ In den USA als \"Erstewelt Land\" ist die Verteilung 50% zu 50%. Dies stärkt die These, dass Frauen in Schwellen- und Entwicklungsländern auf alternative Methoden der Unterhaltsgenerierung zurück greifen müssen."
   ]
  },
  {
   "cell_type": "markdown",
   "id": "palestinian-thomas",
   "metadata": {},
   "source": [
    "# Zusammenfassung Erkenntnisse"
   ]
  },
  {
   "cell_type": "markdown",
   "id": "visible-drain",
   "metadata": {},
   "source": [
    "##### Kernaussagen\n",
    "Bei dem Datensatz handelt es sich um weltweit durchgeführte Crowdfunding Projekte. Der Datensatz beinhaltet 690.885 Projekte.<br>\n",
    "+ __Finanzierungssumme und Laufzeit__: \n",
    "75% Prozent der Projekte hat eine Finanzierungssumme von maximal 925 US-Dollar mit einer Laufzeit von bis zu 14 Monaten.\n",
    "Innerhalb der 15 Sektoren wurden die meisten Projekte in den Sektoren Agriculture (184.176), Food (140.694) und Retail (126.261) durchgeführt. Die wenigsten in Wholesale (641) und Entertainment (858).\n",
    "+ __Kontinente und Länder__: \n",
    "In Asien wurden mit Abstand am meisten Projekte durchgeführt, nahezu doppelt so viele wie im zweitplatzierten Afrika. Europa und Ozeanien ist minimal im Datensatz vertreten. Außer den USA wurden nur Projekte in Schellenländern und Entwicklungsländern finanziert.\n",
    "+ __Geschlecht und Teamgröße__: Über zwei Drittel aller Projekte wird von Frauen bzw. von Teams durchgeführt, in denen mehr Frauen als Männer sind. Bei mindestens 75%  der Projekte beträgt die Teamgröße eine Person. <br>\n",
    "Ein Grund für den hohen Frauenanteil könnte der Entwicklungstand der Länder sein. So gut wie alle Länder sind Schwellenländer oder Entwicklungsländer, bei denen ggf. die Frauen beschränktere Verdienstmöglichkeiten haben und daher selber Projekte starten. Dies würde auch die kleine Teamgröße von überwiegend ein Personenteams erklären.   \n",
    "+ __Anzahl Darlehensgeber__: Die Anzahl der Darlehensgeber steigt gleichmäig an (1tes Quartil: 7, 2tes Quartil 13 und 3tes 25 Darlehensgeber). Augenscheinlich gibt es einen Zusammenhang zur Anzahl Darlehensgeber - je höher die Finanzierungssumme, desto höher die Anzahl der Darlehensgeber\n",
    "+ __Rückzahlungsmodaliläten__: \n",
    "Monatliche Rückzahlung ist mit 51,4% die häufigste Rückzahlungsart, gefolgt von irregulären Rückzahlungen (38,4%) und Endfälligem Darlehen (10,1%). Wöchentliche Rückzahlung sind minimal vertreten (0,1%). Darlehen die nur von einer Person gewährt werden, finden sich überwiegend bei irregulären Rückzahlungen. Frauen erhalten verhältnismäßig viele irreguläre Bedingungen, Männer monatlichen Kreditrückzahlungen und Endfällige Darlehen. \n",
    "+ __Finanzierungserfolg (Anteil erreichtes Finanzierungsvolumen am gewünschten Finanzierungsvolumen)__: \n",
    "90% der Projekte hat einen Finanzierungserfolg von 100%. <br>\n",
    "Weniger erfolgreiche Teams (50% erreichte Finanzierungssumme) haben deutlich weniger Darlehensgeber. Dies lässt sich ggf. darauf zurückführen, dass weniger Personen für die Projekt-Idee gewonnen werden konnten bzw., dass mehr Personen besser in der Lage sind, eine Idee angemessen zu bewerten. <br>\n",
    "Die Unterschiede je Land sind sehr heterogen. Hier könnte weitere Analyse Anhaltspunkte geben, z.B. spielt ggf. die Darlehenshöhe wiederum eine Rolle sowie kulturelle Gründe. <br>\n",
    "Frauendominierte Teams sind erfolgreicher im Erhalt der gewünschten Finanzierungssumme. Bei Projekten mit 100% Finanzierungserfolg sind 75% frauendominierte Teams, bei Projekten, die die gewünschte Finanzierungssumme nicht erhalten haben. Hier ist die Verteilung circa 50% Frauen- und 50% Männerdominierte Teams.\n",
    "\n",
    "\n",
    "\n",
    "##### Die Ergebnisse im Detail\n",
    "+ __Zum Datensatz__\n",
    "Bei dem Datensatz handelt es sich um weltweit durchgeführte Crowdfunding Projekte. Der Datensatz beinhaltet 690.885 Projekte.\n",
    "+ __Finanzierungshöhe und Dauer__\n",
    "Bei den ausgegebenen Krediten handelt es sich um überwiegend Kleinst-Kredite bis maximal 925 US-Dollar (75% der Projekte) mit einer Laufzeit von bis zu 14 Monaten. Nur die oberen 25% der Variablen „erhaltene Finanzierungssumme“, „gewünschte Finanzierungssumme“ und „Finanzierungsdauer“ hat eine größere Varianz. Es gibt 32 Projekte mit einer Finanzierungssumme über 10.000 US-Dollar. Die größte Finanzierungssumme beträgt 50.000 US-Dollar, die längste Finanzierungsdauer beträgt 158 Monate.\n",
    "+ __Sektoren__\n",
    "Insgesamt gibt es 15 Sektoren. Die Sektoren, die mit großem Abstand am meisten Projekte haben, sind Agriculture (184.176), Food (140.694) und Retail (126.261). Die Sektoren, die am wenigsten Projekte haben sind Wholesale (641) und Entertainment (858). Die übrigen 10 Sektoren liegen zwischen 6.524 und 46.477 Projekten.\n",
    "Die Sektoren mit der höchsten durchschnittlichen Finanzierungssumme sind auch die beiden \"kleinsten\" Sektoren: Wholesale (1.455 US Dollar) und Entertainment (1.264 US Dollar). Der Sektor mit der deutlich niedrigsten durchschnittlichen Finanzierungssumme ist Personal Use (392 US Dollar).Die drei nach Finanzierungsvolumen und Projektanzahl größten Sektoren liegen bei durchschnittlichen Finanzierungssummen von: Agricultere (762 US Dollar), Food (878 US Dollar) und Retail (751 US Dollar). \n",
    "Die gewünschte Finanzierungssumme wurde in allen Sektoren nahezu erreicht. Alle Sektoren haben eine Quote von 93,9%(Transportation) bis zu 99,5%. Einzig Entertainment liegt mit 89,1% unter der 90% Quote.  \n",
    "+ __Kontinente und Länder__\n",
    "In Asien wurden mit Abstand am meisten Projekte durchgeführt, nahezu doppelt so viele wie im zweitplatzierten Afrika. Nord und Südamerika haben je etwa die Hälfte an Projekten wie Afrika und ein Viertel wie Asien. Europa und Ozeanien ist minimal im Datensatz vertreten.<br> \n",
    "Westliche und wirtschaftlich starke Nationen sind bis auf die USA nicht im Datensatz vertreten. Die Länder mit den meisten Projekten sind die Philippinen (mit großem Abstand: mehr als Nord oder Südamerika insgesamt), gefolgt von Kenia und El Salvador.<br> \n",
    "Die durchschnittliche Finanzierungssumme reicht von 188 US-Dollar (Nigeria) bis zu 7.812 US Dollar (Buthan). Ozeanien__: von 395 US Dollar (Guam) bis 2.313 US Dollar (Vanatu).<br> \n",
    "Bzgl. des Finanzierungserfolges (Erreichte Finanzierungssumme in Bezug auf gewünschte Finanzierungssumme) liegen alle Kontinente 94,8% (Ozeanien) und 97,3% (Asien). Einzig Nordamerika weicht mit 91,7% etwas ab. Dies lässt sich durch die niedrige Quote der USA (70%) als Land mit zweithöchsten Finanzierungsvolumen innerhalb Nordamerikas erklären. <br> \n",
    "In jedem Kontinent gibt es mehr Frauen- als Männerdominierte Teams. Besonders in Asien ist der Frauenanteil circa sechsmal so hoch, wie bei Männern. Dabei machen wiederum die Philippinen die Hälfte der Projekte aus. Bei allen anderen Kontinenten ist die Anzahl der Frauendominierten Projekte circa doppelt so hoch, wie bei den Männerdomierten Projekten.<br> \n",
    "Ein Grund für den hohen Frauenanteil könnte der Entwicklungstand der Länder sein. So gut wie alle Länder sind Schwellenländer oder Entwicklungsländer, bei denen ggf. die Frauen beschränktere Verdienstmöglichkeiten haben und daher selber Projekte starten. Dies würde auch die kleine Teamgröße von überwiegend \"Ein-Personenteams\" im Datensatz erklären (siehe Teamgröße). \n",
    "+ __Geschlecht__\n",
    "Über zwei Drittel aller Projekte wird von Frauen bzw. von Teams durchgeführt, in denen mehr Frauen als Männer sind.<br>\n",
    "Frauendominierte Teams sind erfolgreicher im Erhalt der gewünschten Finanzierungssumme. Bei Projekten, die 100% der gewünschten Finanzierungssumme erhalten haben ist der Anteil mit Frauendominierten Teams deutlich höher (circa 75%) als bei Projekten, die nicht die gewünschte Finanzierungssumme erhalten haben. Hier ist die Verteilung circa 50% Frauen- und 50% Männerdominierte Teams.<br> \n",
    "Im gesamten Datensatz sind in den meisten Ländern Frauendominierte Teams in der Überzahl. In den USA als \"Erstewelt Land\" ist die Verteilung 50% zu 50%. Dies stärkt die These, dass Frauen in Schwellen- und Entwicklungsländern auf alternative Methoden der Unterhaltsgenerierung zurück greifen müssen.<br> \n",
    "Erst bei Projekten über 10.000 Finanzierungsumme tauchen häufiger Männerdominierte Teams auf. \n",
    "+ __Teamgröße__\n",
    "Bei dem Großteil handelt es sich um Ein-Personen-Teams handelt (ersten drei Quartile). Bei Teams, deren Einzelpersonen Männer sind oder mehr Männer in Teams sind als Frauen, gibt es mehr „Einpersonen-Teams\", als dies bei Frauen oder Frauen dominierten Teams der Fall ist.  \n",
    "+ __Anzahl Darlehensgeber__\n",
    "Die Anzahl der Darlehensgeber ist in den unteren drei Quartilen gleichmäßig ansteigend (1tes Quartil: 7, 2tes Quartil 13 und 3tes 25 Darlehensgeber). Das Projekt mit den meisten Darlehensgebern hat 1765 Darlehensgebern. <br> \n",
    "Augenscheinlich gibt es einen Zusammenhang zur Anzahl Darlehensgeber - je höher die Finanzierungssumme, desto höher die Anzahl der Darlehensgeber.<br> \n",
    "Weniger erfolgreiche Teams (erreichte Finanzierungssumme in Bezug auf gewünschte Finanzierungssumme liegt unter 50%) haben in fast allen Ländern deutlich weniger Darlehensgeber. Dies scheint schlüssig, da ggf. weniger Personen für die Projekt-Idee gewonnen werden konnten. Ein anderer Grund könnte sein, dass mehr Personen eher in der Lage sind, eine Idee angemessen zu bewerten. <br> \n",
    "Die Unterschiede je Land sind sehr hetegerogen. Hier könnte weitere Analyse Anhaltspunkte geben, z.B. spielt höchstwahrscheinlich die Darlehenshöhe hier wiederum eine Rollen. Eine Betrachtung je Kontinent und somit kulturelle Hintergründe könnte weiteren Aufschluss geben.\n",
    "+ __Rückzahlungsmodalitäten__\n",
    "Monatliche Rückzahlung ist mit 51,4% die häufigste Rückzahlungsart, gefolgt von irregulären Rückzahlung (38,4%) und Endfälligem Darlehen (10,1%). Wöchentliche Rückzahlung sind minimal vertreten (0,1%).<br>\n",
    "Darlehen die nur von einer Person gewährt werden, finden sich überwiegend bei irregulären Rückzahlungen. Frauen scheinen mehr individuelle Bedingungen (irregular repayment) zu erhalten. Männer erhalten eher einen monatlichen Kreditrückzahlungsmodus und insbesondere einen Bullet-Kredit erhalten. Der Anteil der Männerdominierten Teams ist bei diesen Finanzierungsformen größer. <br> \n",
    "Bulletkredite gehen weniger an Einzelpersonen als bei den anderen Kreditformen. Bulletkredite werden eher für Gründungen mit unregelmäßigen Rückflüssen verwendet. Dies könnte für komplexere Projekte sprechen, bei denen  spezifischen Fachwissen und somit mehr Personen von Nöten sind und bei denen erst zu einem späteren Zeitpunkt die Leistung abgeliefert wird (z.B. die Lieferung eines Systems).\n",
    "\n",
    "##### Schlussbemerkung\n",
    "Die durchgeführten Analysen geben einen Überblick über den Datensatz und ausgewähtle Fragestellungen. Weitere Analysen, z.B. bzgl. bestimmter Länder, Sektoren, Gruppenbildungen etc. können weitere aufschlussreiche Erkenntnisse liefern. "
   ]
  }
 ],
 "metadata": {
  "kernelspec": {
   "display_name": "Python 3",
   "language": "python",
   "name": "python3"
  },
  "language_info": {
   "codemirror_mode": {
    "name": "ipython",
    "version": 3
   },
   "file_extension": ".py",
   "mimetype": "text/x-python",
   "name": "python",
   "nbconvert_exporter": "python",
   "pygments_lexer": "ipython3",
   "version": "3.8.5"
  },
  "toc": {
   "base_numbering": 1,
   "nav_menu": {},
   "number_sections": true,
   "sideBar": true,
   "skip_h1_title": false,
   "title_cell": "Table of Contents",
   "title_sidebar": "Contents",
   "toc_cell": false,
   "toc_position": {
    "height": "calc(100% - 180px)",
    "left": "10px",
    "top": "150px",
    "width": "413px"
   },
   "toc_section_display": true,
   "toc_window_display": true
  },
  "varInspector": {
   "cols": {
    "lenName": 16,
    "lenType": 16,
    "lenVar": 40
   },
   "kernels_config": {
    "python": {
     "delete_cmd_postfix": "",
     "delete_cmd_prefix": "del ",
     "library": "var_list.py",
     "varRefreshCmd": "print(var_dic_list())"
    },
    "r": {
     "delete_cmd_postfix": ") ",
     "delete_cmd_prefix": "rm(",
     "library": "var_list.r",
     "varRefreshCmd": "cat(var_dic_list()) "
    }
   },
   "types_to_exclude": [
    "module",
    "function",
    "builtin_function_or_method",
    "instance",
    "_Feature"
   ],
   "window_display": false
  }
 },
 "nbformat": 4,
 "nbformat_minor": 5
}
