{
 "cells": [
  {
   "cell_type": "code",
   "execution_count": null,
   "id": "after-testing",
   "metadata": {},
   "outputs": [],
   "source": [
    "# benötigte Bibliotheken importieren\n",
    "\n",
    "import numpy as np\n",
    "import pandas as pd\n",
    "import matplotlib.pyplot as plt\n",
    "import seaborn as sns\n",
    "import plotly_express as px"
   ]
  },
  {
   "cell_type": "markdown",
   "id": "regulated-possession",
   "metadata": {},
   "source": [
    "# Data Preproccesing "
   ]
  },
  {
   "cell_type": "markdown",
   "id": "physical-politics",
   "metadata": {},
   "source": [
    "## Datensätze importieren"
   ]
  },
  {
   "cell_type": "code",
   "execution_count": null,
   "id": "further-robertson",
   "metadata": {},
   "outputs": [],
   "source": [
    "# Datei part1 einlesen & Test ob einlesen erfolgreich war\n",
    "\n",
    "df_part1 = pd.read_csv(\"part1.csv\", sep=\",\", index_col=0)\n",
    "df_part1.head(3)"
   ]
  },
  {
   "cell_type": "code",
   "execution_count": null,
   "id": "executive-happening",
   "metadata": {
    "scrolled": true
   },
   "outputs": [],
   "source": [
    "# Test ob einlesen erfolgreich war (DataFrame Ende)\n",
    "df_part1.tail(3)\n",
    "\n",
    "# enthält 334.999 + 1 Zeilen"
   ]
  },
  {
   "cell_type": "code",
   "execution_count": null,
   "id": "satisfactory-oklahoma",
   "metadata": {},
   "outputs": [],
   "source": [
    "# Datei part2 einlesen + Test, ob einlesen erfolgreich war (DataFrame Anfang)\n",
    "\n",
    "df_part2 = pd.read_csv(\"part2.csv\", sep=\"#\", index_col=0)\n",
    "df_part2.head(3)"
   ]
  },
  {
   "cell_type": "code",
   "execution_count": null,
   "id": "exposed-retirement",
   "metadata": {},
   "outputs": [],
   "source": [
    "# Test ob einlesen erfolgreich war (DataFrame Ende) + Anzahl der Zeilen\n",
    "df_part2.tail(3)\n",
    "\n",
    "# enthält 336.204 + 1 Zeilen"
   ]
  },
  {
   "cell_type": "code",
   "execution_count": null,
   "id": "young-portal",
   "metadata": {},
   "outputs": [],
   "source": [
    "# DataFrames vergleichen\n",
    "\n",
    "df_part1.dtypes"
   ]
  },
  {
   "cell_type": "code",
   "execution_count": null,
   "id": "proprietary-teddy",
   "metadata": {},
   "outputs": [],
   "source": [
    "df_part2.dtypes"
   ]
  },
  {
   "cell_type": "markdown",
   "id": "integral-canadian",
   "metadata": {},
   "source": [
    "Spalten und Datentypen sind die selben. \n",
    "\n",
    "Entscheidung: Datensätze untereinander anhängen."
   ]
  },
  {
   "cell_type": "markdown",
   "id": "defined-reader",
   "metadata": {},
   "source": [
    "## Datensätze zusammen fügen"
   ]
  },
  {
   "cell_type": "code",
   "execution_count": null,
   "id": "metric-aaron",
   "metadata": {},
   "outputs": [],
   "source": [
    "# Datensätze zusammenfügen\n",
    "\n",
    "df_all = df_part1.append(df_part2, ignore_index=True)"
   ]
  },
  {
   "cell_type": "code",
   "execution_count": null,
   "id": "chicken-feeding",
   "metadata": {},
   "outputs": [],
   "source": [
    "# Test ob einlesen erfolgreich war (DataFrame Anfang)\n",
    "\n",
    "df_all.head(3)"
   ]
  },
  {
   "cell_type": "code",
   "execution_count": null,
   "id": "light-patch",
   "metadata": {},
   "outputs": [],
   "source": [
    "# Test ob einlesen erfolgreich war (DataFrame Ende) + Anzahl der Zeilen\n",
    "\n",
    "df_all.tail(3)"
   ]
  },
  {
   "cell_type": "markdown",
   "id": "generic-discount",
   "metadata": {},
   "source": [
    "Ergebnis: \n",
    "\n",
    "Anzahl Zeilen stimmen\n",
    "\n",
    "Inhalte stimmen auch überein\n",
    "\n",
    "Zusammenführung war erfolgreich"
   ]
  },
  {
   "cell_type": "markdown",
   "id": "final-offense",
   "metadata": {},
   "source": [
    "## Fehlende Werte\n",
    "\n",
    "### dtypes - Prüfung, ob Datentypen zu den Inhalten passen"
   ]
  },
  {
   "cell_type": "code",
   "execution_count": null,
   "id": "intermediate-defense",
   "metadata": {},
   "outputs": [],
   "source": [
    "# dtypes, um zu prüfen ob Datentypen zu Inhalten passen.\n",
    "\n",
    "df_all.dtypes"
   ]
  },
  {
   "cell_type": "markdown",
   "id": "brown-automation",
   "metadata": {},
   "source": [
    "Könnten inhaltlich Integers sein: funded_amount, loan_amount\n",
    "\n",
    "Müssten inhaltilch Integers sein: term_in_month\n",
    "\n",
    "Fragen:\n",
    "- Sind ggf. Nans enthalten? \n",
    "- Handelt es sich um echte Floats(Zahlen hinter Komma)?"
   ]
  },
  {
   "cell_type": "code",
   "execution_count": null,
   "id": "considerable-pennsylvania",
   "metadata": {},
   "outputs": [],
   "source": [
    "# Spaltennamen auf Leerzeichen prüfen, um die richtigen Spalten bei weiteren Tests aufzurufen.\n",
    "\n",
    "df_all.columns"
   ]
  },
  {
   "cell_type": "code",
   "execution_count": null,
   "id": "offensive-ultimate",
   "metadata": {},
   "outputs": [],
   "source": [
    "# Zeilen mit möglichen NaNs anzeigen lassen.\n",
    "\n",
    "# df_all.loc[df_all[\"funded_amount\"].is_null()]\n",
    "\n",
    "# AttributeError wird angezeigt: 'Series' object has no attribute 'is_null'.\n",
    "# Ergebnis: Keine NaNs in der Spalte"
   ]
  },
  {
   "cell_type": "markdown",
   "id": "clean-idaho",
   "metadata": {},
   "source": [
    "AttributeError wird angezeigt: 'Series' object has no attribute 'is_null'. \n",
    "\n",
    "Ergebnis: Keine NaNs in der Spalte."
   ]
  },
  {
   "cell_type": "code",
   "execution_count": null,
   "id": "alternate-driving",
   "metadata": {},
   "outputs": [],
   "source": [
    "# Zeilen mit möglichen NaNs anzeigen lassen.\n",
    "\n",
    "# df_all.loc[df_all[\"loan_amount\"].is_null()]\n",
    "\n",
    "# AttributeError wird angezeigt: 'Series' object has no attribute 'is_null'.\n",
    "# Ergebnis: Keine NaNs in der Spalte"
   ]
  },
  {
   "cell_type": "markdown",
   "id": "broad-parking",
   "metadata": {},
   "source": [
    "AttributeError wird angezeigt: 'Series' object has no attribute 'is_null'. \n",
    "\n",
    "Ergebnis: Keine NaNs in der Spalte."
   ]
  },
  {
   "cell_type": "code",
   "execution_count": null,
   "id": "structural-antique",
   "metadata": {},
   "outputs": [],
   "source": [
    "# Zeilen mit möglichen NaNs anzeigen lassen.\n",
    "\n",
    "# df_all.loc[df_all[\"term_in_months\"].is_null()]\n",
    "\n",
    "# AttributeError wird angezeigt: 'Series' object has no attribute 'is_null'.\n",
    "# Ergebnis: Keine NaNs in der Spalte"
   ]
  },
  {
   "cell_type": "markdown",
   "id": "neural-flower",
   "metadata": {},
   "source": [
    "AttributeError wird angezeigt: 'Series' object has no attribute 'is_null'. \n",
    "\n",
    "Ergebnis: Keine NaNs in der Spalte."
   ]
  },
  {
   "cell_type": "code",
   "execution_count": null,
   "id": "british-italic",
   "metadata": {},
   "outputs": [],
   "source": [
    "# Alternativ und einfacher:\n",
    "\n",
    "df_all.isnull().sum()"
   ]
  },
  {
   "cell_type": "markdown",
   "id": "whole-thesis",
   "metadata": {},
   "source": [
    "#### Erkentnisse\n",
    "\n",
    "- funded_amount, loan_amount und term_in_month haben keine Nullwerte.\n",
    "- Bei Speicherplatz Reduzierung prüfen, ob floats \"echte\" Floats sind (keine Zahl hinter dem Komma)"
   ]
  },
  {
   "cell_type": "markdown",
   "id": "agricultural-gardening",
   "metadata": {},
   "source": [
    "### isnull - Prüfung auf Nullwerte für den gesamten DataFrame"
   ]
  },
  {
   "cell_type": "code",
   "execution_count": null,
   "id": "healthy-reference",
   "metadata": {},
   "outputs": [],
   "source": [
    "# isnull, um sich Nullwerte für gesamten DataFrame anzeigen zu lassen\n",
    "\n",
    "df_all.isnull().sum()"
   ]
  },
  {
   "cell_type": "markdown",
   "id": "recorded-algebra",
   "metadata": {},
   "source": [
    "#### Erkenntnisse\n",
    "- \"use\" enthält 4.232 Nullwerte\n",
    "- \"country_code\" enthält 8 Nullwerte\n",
    "- \"region\" enthält 56.800 Nullwerte\n",
    "- borrowert_genders enthält 4.221 Nullwerte\n",
    "\n",
    "__Erste Überlegungen:__\n",
    "\n",
    "- Fragelich, ob \"use\" und \"region\" wichtig für weitere Analysen sind.\n",
    "- \"country_code\" sind nur sehr wenige Nullwerte und lässt sich daher leicht prüfen und ggf. bearbeiten.\n",
    "- \"borrower_genders\" sind für weitere Analysen wichtig und sollten daher im Detail angeschaut werden.\n"
   ]
  },
  {
   "cell_type": "code",
   "execution_count": null,
   "id": "nuclear-lending",
   "metadata": {
    "scrolled": true
   },
   "outputs": [],
   "source": [
    "# country_code im Detail anschauen, da nur sehr wenige Null-Werte\n",
    "\n",
    "df_all.loc[df_all[\"country_code\"].isnull()]"
   ]
  },
  {
   "cell_type": "markdown",
   "id": "aquatic-spiritual",
   "metadata": {},
   "source": [
    "Nullwerte bei country_code kommen nur bei Namibmia vor. -> Welchen country_code hat Namibia sonst?"
   ]
  },
  {
   "cell_type": "code",
   "execution_count": null,
   "id": "mathematical-orange",
   "metadata": {},
   "outputs": [],
   "source": [
    "# Zeilen mit country \"Namibia\" ausgeben lassen.\n",
    "\n",
    "df_all.loc[df_all[\"country\"] == \"Namibia\"]"
   ]
  },
  {
   "cell_type": "markdown",
   "id": "fifteen-azerbaijan",
   "metadata": {},
   "source": [
    "Nan wird im Datensatz als country_code für Namibia verwendet. -> Umschreiben in Länderkürzel NAM gemäß ISO-Standard ISO-3166 \n",
    "\n",
    "(https://laendercode.net/de/country/na)"
   ]
  },
  {
   "cell_type": "code",
   "execution_count": null,
   "id": "appointed-witness",
   "metadata": {},
   "outputs": [],
   "source": [
    "# Umschreiben\n",
    "\n",
    "df_all.loc[:,\"country_code\"].replace({np.nan:\"NaM\"}, inplace=True)"
   ]
  },
  {
   "cell_type": "code",
   "execution_count": null,
   "id": "victorian-proposition",
   "metadata": {},
   "outputs": [],
   "source": [
    "# Testen, ob Umschreibung erfolgreich war\n",
    "\n",
    "df_all.loc[df_all[\"country\"] == \"Namibia\"]"
   ]
  },
  {
   "cell_type": "markdown",
   "id": "realistic-campus",
   "metadata": {},
   "source": [
    "#### Nullwerte bei \"borrower_genders\" beibehalten"
   ]
  },
  {
   "cell_type": "code",
   "execution_count": null,
   "id": "gross-title",
   "metadata": {},
   "outputs": [],
   "source": [
    "# Ersten 20 Zeilen anschauen, wo bei \"borrower_genders\" ein Nullwert steht, um etwaige Zusammenhänge zu verstehen.\n",
    "\n",
    "df_nan_gender = df_all.loc[df_all[\"borrower_genders\"].isnull()]\n",
    "df_nan_gender.head(20)"
   ]
  },
  {
   "cell_type": "code",
   "execution_count": null,
   "id": "entertaining-press",
   "metadata": {},
   "outputs": [],
   "source": [
    "# Letzten 20 Zeilen anschauen, wo bei \"borrower_genders\" ein Nullwert steht, um etwaige Zusammenhänge zu verstehen.\n",
    "\n",
    "df_nan_gender.head(20)"
   ]
  },
  {
   "cell_type": "markdown",
   "id": "actual-price",
   "metadata": {},
   "source": [
    "Alle \"use\" und \"region\" Spalten weisen ebenfalls Nullwerte in den betreffenden Zeilen auf. Dies könnte mit der Form oder technischen Lösung der Datenerhebung zu tun haben.\n",
    "\n",
    "\"monthly\" kommt sehr häufig bei repayment_interval vor. \n",
    "\n",
    "Alle anderen Spalten sind sehr heterogen und zeigen keine augenscheinlichen Muster oder Zusammenhänge.\n",
    "\n",
    "Bzgl. monthly bei repayment_interval: Häufigkeitsverteilung von borrower_genders und repayment_interval aufrufen, um sich hier ein klarers Bild zu verschaffen."
   ]
  },
  {
   "cell_type": "code",
   "execution_count": null,
   "id": "higher-martial",
   "metadata": {},
   "outputs": [],
   "source": [
    "# Verteilung repayment_interval\n",
    "\n",
    "df_all.groupby(\"repayment_interval\").size()"
   ]
  },
  {
   "cell_type": "markdown",
   "id": "another-effort",
   "metadata": {},
   "source": [
    "\"Monthly\" ist mit Abstand der häufigste Wert. Das ist plausibel"
   ]
  },
  {
   "cell_type": "code",
   "execution_count": null,
   "id": "olympic-incidence",
   "metadata": {},
   "outputs": [],
   "source": [
    "# Verteilung borrower_genders\n",
    "\n",
    "df_all.groupby(\"borrower_genders\").size()"
   ]
  },
  {
   "cell_type": "markdown",
   "id": "limited-desperate",
   "metadata": {},
   "source": [
    "Die Verteilung von borrower_genders ist sehr heterogen, was eine weitere Zusammenhangs-Analyse erschwert.\n",
    "\n",
    "Falls ein Zusammenhang zwischen borrower_genders und repayment_interval besteht ist dieser inhaltlich auf dieser Ebene der Analyse nicht erkennbar.\n",
    "\n",
    "__Entscheidung:__ \n",
    "\n",
    "Nullwerte in der Spalte \"borrower_genders\" bleiben erhalten, da keine augenscheinlichen und soweit ersichtlichen Zusammenhänge bestehen. \n",
    "\n",
    "Sollte der eine nähere Betrachtung eines etwaigen Zusammenhangs zwischen \"borrower_genders\" und \"repayment_interval\" in der weiteren Analyse relevant werden, kann dies separat betrachet werden.\n",
    "\n"
   ]
  },
  {
   "cell_type": "markdown",
   "id": "relative-flexibility",
   "metadata": {},
   "source": [
    "#### Nullwerte bei \"use\" und \"region\" beibehalten. \n",
    "\n",
    "__use:__ für weitere quantitative Analysen, so wie sie für das Abschlussprojekt vorgesehen sind, scheint die Spalte nicht wichtig. -> Spalte wird so belassen.\n",
    "\n",
    "__region:__ für weitere Analyse auf Länder Ebende bleiben. Falls Regionen für Analysen auf Länderebene relevant werden, dann neu für das jeweilige Land entscheiden. -> So belassen"
   ]
  },
  {
   "cell_type": "markdown",
   "id": "moderate-portsmouth",
   "metadata": {},
   "source": [
    "### unique() - Prüfung auf fehlende Werte in Form von Synonymen\n",
    "\n",
    "Aufgrund der großen Datenmenge macht nur eine Betrachtung von String-Werte Sinn. Und auch hier nur diejenigen, bei denen zu erwarten ist, dass die unique Werte überschaubar bleiben und die nicht in vorherigen Anaylsen als \"unwichtig\" (\"region\") eingestuft wurden"
   ]
  },
  {
   "cell_type": "code",
   "execution_count": null,
   "id": "raising-thermal",
   "metadata": {},
   "outputs": [],
   "source": [
    "# Spaltenüberschriften ausgeben lassen zur Arbeitserleichterung\n",
    "\n",
    "df_all.dtypes"
   ]
  },
  {
   "cell_type": "code",
   "execution_count": null,
   "id": "entertaining-startup",
   "metadata": {},
   "outputs": [],
   "source": [
    "df_all[\"activity\"].unique()"
   ]
  },
  {
   "cell_type": "markdown",
   "id": "honey-throw",
   "metadata": {},
   "source": [
    "Keine fehlenden Werte in Form von Synonymen in \"activity\" enthalten."
   ]
  },
  {
   "cell_type": "code",
   "execution_count": null,
   "id": "documented-consequence",
   "metadata": {},
   "outputs": [],
   "source": [
    "df_all[\"sector\"].unique()"
   ]
  },
  {
   "cell_type": "markdown",
   "id": "younger-bacon",
   "metadata": {},
   "source": [
    "Keine fehlenden Werte in Form von Synonymen in \"sector\" enthalten."
   ]
  },
  {
   "cell_type": "code",
   "execution_count": null,
   "id": "closing-crime",
   "metadata": {},
   "outputs": [],
   "source": [
    "df_all[\"country_code\"].unique()"
   ]
  },
  {
   "cell_type": "markdown",
   "id": "devoted-committee",
   "metadata": {},
   "source": [
    "Keine fehlenden Werte in Form von Synonymen in \"country_code\" enthalten."
   ]
  },
  {
   "cell_type": "code",
   "execution_count": null,
   "id": "opened-brazilian",
   "metadata": {},
   "outputs": [],
   "source": [
    "df_all[\"country\"].unique()"
   ]
  },
  {
   "cell_type": "markdown",
   "id": "fewer-reynolds",
   "metadata": {},
   "source": [
    "Keine fehlenden Werte in Form von Synonymen in \"country\" enthalten."
   ]
  },
  {
   "cell_type": "code",
   "execution_count": null,
   "id": "major-expression",
   "metadata": {},
   "outputs": [],
   "source": [
    "df_all[\"currency\"].unique()"
   ]
  },
  {
   "cell_type": "markdown",
   "id": "grand-airfare",
   "metadata": {},
   "source": [
    "Keine fehlenden Werte in Form von Synonymen in \"currency\" enthalten."
   ]
  },
  {
   "cell_type": "code",
   "execution_count": null,
   "id": "cooperative-virus",
   "metadata": {},
   "outputs": [],
   "source": [
    "df_all[\"borrower_genders\"].unique()"
   ]
  },
  {
   "cell_type": "markdown",
   "id": "balanced-collins",
   "metadata": {},
   "source": [
    "Unique Datenmenge zu groß, um dies mit der unique-Methode beurteilen zu können."
   ]
  },
  {
   "cell_type": "code",
   "execution_count": null,
   "id": "subsequent-location",
   "metadata": {},
   "outputs": [],
   "source": [
    "df_all[\"repayment_interval\"].unique()"
   ]
  },
  {
   "cell_type": "markdown",
   "id": "female-emperor",
   "metadata": {},
   "source": [
    "Keine fehlenden Werte in Form von Synonymen in \"repayment_interval\" enthalten."
   ]
  },
  {
   "cell_type": "markdown",
   "id": "stuffed-grounds",
   "metadata": {},
   "source": [
    "#### Erkenntnisse\n",
    "\n",
    "Es wurden keine fehlenden Werte in Form von Synonmyen in Spalten mit Datentyp \"Object\" gefunden. Die Spalten \"use\" und \"region\" wurden nicht betrachtet, da sie zuvor bereits als weniger wichtig eingestuft wurden.\n",
    "\n",
    "Bei \"borrower_genders\" war die Unique Datenmenge zu groß, um mit der unique-Methode feststellen zu können, ob fehlende Werte vorliegen\n"
   ]
  },
  {
   "cell_type": "markdown",
   "id": "comic-norman",
   "metadata": {},
   "source": [
    "### describe - Negativzahlen oder weitere Auffälligkeiten"
   ]
  },
  {
   "cell_type": "code",
   "execution_count": null,
   "id": "failing-faculty",
   "metadata": {},
   "outputs": [],
   "source": [
    "df_all.describe()"
   ]
  },
  {
   "cell_type": "markdown",
   "id": "presidential-federation",
   "metadata": {},
   "source": [
    "#### Erkenntnisse\n",
    "\n",
    "- Keine Negativen Zahlen enthalten.\n",
    "- Keine anderen Auffälligkeiten, die auf fehlende Werte hinweisen.\n",
    "- Ausreißer sollten aufgrund der hohen Maximalwerte näher untersucht werden, insbesondere bei funded_amount und lender_count."
   ]
  },
  {
   "cell_type": "markdown",
   "id": "important-gateway",
   "metadata": {},
   "source": [
    "## Speicherplatz reduzieren"
   ]
  },
  {
   "cell_type": "markdown",
   "id": "recognized-north",
   "metadata": {},
   "source": [
    "### Speicherplatz feststellen"
   ]
  },
  {
   "cell_type": "code",
   "execution_count": null,
   "id": "documented-combining",
   "metadata": {},
   "outputs": [],
   "source": [
    "# Größe des Speicherplatzes von df_all feststellen: Speicherplatz pro Spalte\n",
    "\n",
    "df_all.memory_usage()"
   ]
  },
  {
   "cell_type": "code",
   "execution_count": null,
   "id": "internal-primary",
   "metadata": {},
   "outputs": [],
   "source": [
    " # Größe des Speicherplatzes von df_all feststellen: Gesamt, inklusive index.\n",
    "    \n",
    "df_all.memory_usage().sum()"
   ]
  },
  {
   "cell_type": "code",
   "execution_count": null,
   "id": "armed-aerospace",
   "metadata": {},
   "outputs": [],
   "source": [
    "# Alternativ mit info().\n",
    "\n",
    "df_all.info()"
   ]
  },
  {
   "cell_type": "markdown",
   "id": "trying-wound",
   "metadata": {},
   "source": [
    "Die Methode info() liefert andere Werte als memory usage (memory_usage(): 69,8MB vs info(): 66.6MB)\n",
    "\n",
    "Im folgenden wird mit der Methode info() gearbeitet."
   ]
  },
  {
   "cell_type": "markdown",
   "id": "invalid-wheat",
   "metadata": {},
   "source": [
    "### Nicht benötigte Spalten entfernen\n",
    "\n",
    "Aufbauend auf den Erkenntnissen zu fehlende Werte sind folgende Zeilen nicht für die erste Analyse relevant: \"use\", \"region\". \n",
    "\n",
    "Daher ist es sinnvoll, für die weitere Analyse die beiden Spalten zu entfernen und somit den Speicherplatz der Datei, mit der gearbeitet wird, zu reduzieren."
   ]
  },
  {
   "cell_type": "code",
   "execution_count": null,
   "id": "breeding-sensitivity",
   "metadata": {},
   "outputs": [],
   "source": [
    "# Spalten löschen\n",
    "\n",
    "df_red_col = df_all.drop([\"use\", \"region\"], axis=1)"
   ]
  },
  {
   "cell_type": "code",
   "execution_count": null,
   "id": "speaking-substitute",
   "metadata": {},
   "outputs": [],
   "source": [
    "# Kontrolle, ob Löschung erfolgreich war\n",
    "\n",
    "df_red_col.head()"
   ]
  },
  {
   "cell_type": "code",
   "execution_count": null,
   "id": "posted-courage",
   "metadata": {},
   "outputs": [],
   "source": [
    "# Kontrolle, ob Speicherplatz reduziert wurde mit info().\n",
    "\n",
    "df_red_col.info()"
   ]
  },
  {
   "cell_type": "markdown",
   "id": "protective-revision",
   "metadata": {},
   "source": [
    "Die reduzierte Datei enthält 56,3 MB ggü. 66,6 MB. Es konnten 10,3 MB reduziert werden."
   ]
  },
  {
   "cell_type": "markdown",
   "id": "marine-punishment",
   "metadata": {},
   "source": [
    "### Datentyp Object in Category umwandeln"
   ]
  },
  {
   "cell_type": "code",
   "execution_count": null,
   "id": "bigger-version",
   "metadata": {},
   "outputs": [],
   "source": [
    "# verwendete Datentypen anschauen\n",
    "\n",
    "df_red_col.dtypes"
   ]
  },
  {
   "cell_type": "markdown",
   "id": "whole-louisville",
   "metadata": {},
   "source": [
    "Der Datensatz beinhaltet mehrere Spalten mit Datentyp \"Object\". Spalten mit wenigen einzelnen Werte können in den Datentyp \"Category\" umgewandelt werden. Bei kategorialen Datentypen wird jeder einzigartige Wert einmal gespeichert und einem Integer-Wert zugeordnet, um den spezifischen Namen identifizieren zu können. So kann der Speicherplatz weiter reduziert werden."
   ]
  },
  {
   "cell_type": "code",
   "execution_count": null,
   "id": "welcome-validation",
   "metadata": {},
   "outputs": [],
   "source": [
    "# Kopie des Datensatzes erstellen\n",
    "\n",
    "df_red_col_cat = df_red_col.copy()"
   ]
  },
  {
   "cell_type": "code",
   "execution_count": null,
   "id": "drawn-messaging",
   "metadata": {},
   "outputs": [],
   "source": [
    "# repayment_interval in category umwandeln\n",
    "\n",
    "df_red_col_cat[\"repayment_interval\"] = df_red_col_cat[\"repayment_interval\"].astype(\"category\")"
   ]
  },
  {
   "cell_type": "code",
   "execution_count": null,
   "id": "local-button",
   "metadata": {},
   "outputs": [],
   "source": [
    "# Kontrolle, ob Umwandlung funktioniert hat\n",
    "\n",
    "df_red_col_cat.dtypes"
   ]
  },
  {
   "cell_type": "code",
   "execution_count": null,
   "id": "upper-phase",
   "metadata": {},
   "outputs": [],
   "source": [
    "# Kontrolle, ob Daten reduziert wurden\n",
    "\n",
    "df_red_col_cat.memory_usage()"
   ]
  },
  {
   "cell_type": "code",
   "execution_count": null,
   "id": "verified-jurisdiction",
   "metadata": {},
   "outputs": [],
   "source": [
    "# Übrige Datentypen umwandeln\n",
    "\n",
    "df_red_col_cat[\"activity\"] = df_red_col_cat[\"activity\"].astype(\"category\")\n",
    "df_red_col_cat[\"sector\"] = df_red_col_cat[\"sector\"].astype(\"category\")\n",
    "df_red_col_cat[\"country_code\"] = df_red_col_cat[\"country_code\"].astype(\"category\")\n",
    "df_red_col_cat[\"country\"] = df_red_col_cat[\"country\"].astype(\"category\")\n",
    "df_red_col_cat[\"currency\"] = df_red_col_cat[\"currency\"].astype(\"category\")\n",
    "df_red_col_cat[\"borrower_genders\"] = df_red_col_cat[\"borrower_genders\"].astype(\"category\")"
   ]
  },
  {
   "cell_type": "code",
   "execution_count": null,
   "id": "covered-chester",
   "metadata": {},
   "outputs": [],
   "source": [
    "# Kontrolle, ob Umwandlung funktioniert hat\n",
    "\n",
    "df_red_col_cat.dtypes"
   ]
  },
  {
   "cell_type": "code",
   "execution_count": null,
   "id": "swedish-darwin",
   "metadata": {},
   "outputs": [],
   "source": [
    "# Kontrolle, ob Daten reduziert wurden\n",
    "\n",
    "df_red_col_cat.memory_usage()"
   ]
  },
  {
   "cell_type": "code",
   "execution_count": null,
   "id": "internal-hardware",
   "metadata": {},
   "outputs": [],
   "source": [
    "# Einsparung feststellen\n",
    "\n",
    "df_red_col_cat.info()"
   ]
  },
  {
   "cell_type": "markdown",
   "id": "restricted-chapel",
   "metadata": {},
   "source": [
    "Reduktion:\n",
    "- Ausgangsdatei: 66,6MB\n",
    "- Nach entfernen der nicht relevanten Spalten: 56,3MB \n",
    "- Nach Umwandlung von Datentyp Object in Category bei sieben Spalten: 26.6MB"
   ]
  },
  {
   "cell_type": "markdown",
   "id": "foster-notification",
   "metadata": {},
   "source": [
    "### Prüfung float Werte auf Zahlen hinter dem Komma\n"
   ]
  },
  {
   "cell_type": "code",
   "execution_count": null,
   "id": "expired-denmark",
   "metadata": {},
   "outputs": [],
   "source": [
    "# Überlegung, wie festgestellt werden kann, ob sich hinter dem Komma noch eine Zahl befindet.\n",
    "\n",
    "x = [1, 2, 5, 5.5, 1.0, 10.442, 0.5]\n",
    "\n",
    "for i in x:\n",
    "    if not i%1==0.0:\n",
    "        print(i)\n",
    "\n",
    "# funktioniert "
   ]
  },
  {
   "cell_type": "code",
   "execution_count": null,
   "id": "bright-america",
   "metadata": {},
   "outputs": [],
   "source": [
    "# funded_amount echter float? Zahl hinter dem Komma?\n",
    "\n",
    "for i in df_all[\"funded_amount\"]:\n",
    "    if not i%1==0.0:\n",
    "        print(i)"
   ]
  },
  {
   "cell_type": "code",
   "execution_count": null,
   "id": "creative-above",
   "metadata": {},
   "outputs": [],
   "source": [
    "# loan_amount echter float? Zahl hinter dem Komma?\n",
    "\n",
    "for i in df_all[\"loan_amount\"]:\n",
    "    if not i%1==0.0:\n",
    "        print(i)"
   ]
  },
  {
   "cell_type": "code",
   "execution_count": null,
   "id": "cooked-characterization",
   "metadata": {},
   "outputs": [],
   "source": [
    "# term_in_months echter float? Zahl hinter dem Komma?\n",
    "\n",
    "for i in df_all[\"term_in_months\"]:\n",
    "    if not i%1==0.0:\n",
    "        print(i)"
   ]
  },
  {
   "cell_type": "markdown",
   "id": "arctic-furniture",
   "metadata": {},
   "source": [
    "Bei keiner Spalte existieren Zahlen hinter dem Komma. Sie können in Int-Werte umgewandelt werden."
   ]
  },
  {
   "cell_type": "code",
   "execution_count": null,
   "id": "available-botswana",
   "metadata": {},
   "outputs": [],
   "source": [
    "# Umwandlung der floats in int\n",
    "\n",
    "df_red_col_cat[[\"funded_amount\", \"loan_amount\", \"term_in_months\"]] = df_red_col_cat[[\"funded_amount\", \"loan_amount\", \"term_in_months\"]].astype(int)"
   ]
  },
  {
   "cell_type": "code",
   "execution_count": null,
   "id": "coated-blank",
   "metadata": {},
   "outputs": [],
   "source": [
    "# Kontrolle, ob Umwandlung funktioniert hat\n",
    "\n",
    "df_red_col_cat.info()"
   ]
  },
  {
   "cell_type": "markdown",
   "id": "promising-pottery",
   "metadata": {},
   "source": [
    "Reduktion:\n",
    "- Ausgangsdatei: 66,6MB\n",
    "- Nach entfernen der nicht relevanten Spalten: 56,3MB \n",
    "- Nach Umwandlung von Datentyp Object in Category bei sieben Spalten: 26.6MB\n",
    "- Nach Umwandlung der Float Werte in int Werte: 18.9MB"
   ]
  },
  {
   "cell_type": "markdown",
   "id": "extensive-devices",
   "metadata": {},
   "source": [
    "### Downcasting numerischer Datentypen\n",
    "\n",
    "Des weiteren können Spalten mit numerische Datentypen auf den kleinst möglichen Typ reduziert werden."
   ]
  },
  {
   "cell_type": "code",
   "execution_count": null,
   "id": "champion-surveillance",
   "metadata": {},
   "outputs": [],
   "source": [
    "# \"Downcasting\" von int Datensätzen\n",
    "\n",
    "df_red_col_cat[[\"funded_amount\", \"loan_amount\", \"term_in_months\", \"lender_count\"]] = df_red_col_cat[[\"funded_amount\", \"loan_amount\", \"term_in_months\", \"lender_count\"]].apply(pd.to_numeric, downcast=\"unsigned\")"
   ]
  },
  {
   "cell_type": "code",
   "execution_count": null,
   "id": "wired-objective",
   "metadata": {},
   "outputs": [],
   "source": [
    "# Kontrolle, ob Downcasting funktioniert hat\n",
    "\n",
    "df_red_col_cat.info()"
   ]
  },
  {
   "cell_type": "markdown",
   "id": "normal-alarm",
   "metadata": {},
   "source": [
    "Reduktion:\n",
    "- Ausgangsdatei: 66,6MB\n",
    "- Nach entfernen der nicht relevanten Spalten: 56,3MB \n",
    "- Nach Umwandlung von Datentyp Object in Category bei sieben Spalten: 26.6MB\n",
    "- Nach Umwandlung der Float Werte in int Werte: 18.9MB\n",
    "- Nach Downcasting der int-Werte: 13.02MB"
   ]
  },
  {
   "cell_type": "code",
   "execution_count": null,
   "id": "incident-marker",
   "metadata": {},
   "outputs": [],
   "source": [
    "# Zweites \"Downcasting\" von int Datensätzen\n",
    "\n",
    "df_red_col_cat[[\"funded_amount\", \"loan_amount\", \"term_in_months\", \"lender_count\"]] = df_red_col_cat[[\"funded_amount\", \"loan_amount\", \"term_in_months\", \"lender_count\"]].apply(pd.to_numeric, downcast=\"unsigned\")"
   ]
  },
  {
   "cell_type": "code",
   "execution_count": null,
   "id": "becoming-oracle",
   "metadata": {},
   "outputs": [],
   "source": [
    "# Kontrolle, ob zweites Downcasting funktioniert hat\n",
    "\n",
    "df_red_col_cat.info()"
   ]
  },
  {
   "cell_type": "markdown",
   "id": "boolean-barcelona",
   "metadata": {},
   "source": [
    "Ein weiteres Downcasting bringt keine weiteren Vorteile."
   ]
  },
  {
   "cell_type": "markdown",
   "id": "alleged-negotiation",
   "metadata": {},
   "source": [
    "### Ergebnis\n",
    "\n",
    "Durch das obige Vorgehen konnte die Größe des Datensatzes wie folgt reduziert werden:\n",
    "\n",
    "- Ausgangsdatei: 66,6 MB\n",
    "- Nach entfernen der nicht relevanten Spalten: 56,3 MB \n",
    "- Nach Umwandlung von Datentyp Object in Category bei sieben Spalten: 26,6 MB\n",
    "- Nach Umwandlung der Float Werte in int Werte: 18,9 MB\n",
    "- Nach Downcasting der int-Werte: 13,2 MB\n",
    "\n",
    "__Finales Ergebnis:__ von __66,6 MB__ auf __13,2 MB__ entspricht einer __Reduktion von 80%__.\n",
    "\n",
    "Weitere Möglichkeiten zur Reduktion bietet das Arbeiten mit anderen Bibliotheken, wie dask. An dieser Stelle wird sichnur auf die angewandten Vorgehensweisen bechränkt. "
   ]
  },
  {
   "cell_type": "markdown",
   "id": "connected-irish",
   "metadata": {},
   "source": [
    "## Pairplot - erste visuelle Inspektion"
   ]
  },
  {
   "cell_type": "code",
   "execution_count": null,
   "id": "wooden-harrison",
   "metadata": {},
   "outputs": [],
   "source": [
    "# benötigte bib importieren\n",
    "\n",
    "import seaborn as sns "
   ]
  },
  {
   "cell_type": "code",
   "execution_count": null,
   "id": "academic-organ",
   "metadata": {},
   "outputs": [],
   "source": [
    "sns.pairplot(data=df_red_col_cat, corner=True) "
   ]
  },
  {
   "cell_type": "markdown",
   "id": "binding-justice",
   "metadata": {},
   "source": [
    "### Erkenntnisse\n",
    "\n",
    "__Ausreißer__:\n",
    "Wie schon bei der Anwendung der describe() Methode vermutet wurde, zeigen sich Ausreißer bei:\n",
    "- loan/funded_amount: Eine Funding Projekt hat einen doppelt so hohen zielbetrag und Funding wie die höchsten anderen loan/funded amount Werte.  \n",
    "- lender_count: Auch hier hat ein Projekt nahezu doppelt so viele Darlehensgeber, wie die höchsten anderen lender_count Werte."
   ]
  },
  {
   "cell_type": "markdown",
   "id": "gorgeous-teddy",
   "metadata": {},
   "source": [
    "## Ausreißer\n",
    "\n",
    "Auf Basis der Erkenntnisse aus der describe Methode und dem Pairplot werden die Ausreißer loan_amount, funded_amount und lender_count entfert."
   ]
  },
  {
   "cell_type": "markdown",
   "id": "roman-plane",
   "metadata": {},
   "source": [
    "### Ausreißer identifizieren"
   ]
  },
  {
   "cell_type": "code",
   "execution_count": null,
   "id": "weekly-andrew",
   "metadata": {},
   "outputs": [],
   "source": [
    "# Identifizieren des Funding Projekts mit Ausreißer Funding\n",
    "\n",
    "df_red_col_cat.loc[df_red_col_cat[\"funded_amount\"]>50000,:]"
   ]
  },
  {
   "cell_type": "code",
   "execution_count": null,
   "id": "cellular-senegal",
   "metadata": {},
   "outputs": [],
   "source": [
    "# Identifizieren des Funding Projekts mit Ausreißer lender_count\n",
    "\n",
    "df_red_col_cat.loc[df_red_col_cat[\"lender_count\"]>2000,:]"
   ]
  },
  {
   "cell_type": "markdown",
   "id": "regulation-wings",
   "metadata": {},
   "source": [
    "### Erkenntnis"
   ]
  },
  {
   "cell_type": "markdown",
   "id": "negative-supplier",
   "metadata": {},
   "source": [
    "Es handelt sich bei beiden Ausreißern um das selbe Funding Projekt.\n",
    "\n",
    "Dieses wird für die weiteren Analysen aus dem Datensatz entfernt, da es sowohl Berechnungen als auch graphische Darstellungen zu sehr verzerrt."
   ]
  },
  {
   "cell_type": "markdown",
   "id": "american-tiffany",
   "metadata": {},
   "source": [
    "### Ausreißer entfernen"
   ]
  },
  {
   "cell_type": "code",
   "execution_count": null,
   "id": "formed-earth",
   "metadata": {},
   "outputs": [],
   "source": [
    "# Richtigen Datensatz ansteuern. \n",
    "\n",
    "df_outlier = df_red_col_cat.iloc[70499:70500,:]\n",
    "df_outlier"
   ]
  },
  {
   "cell_type": "code",
   "execution_count": null,
   "id": "million-array",
   "metadata": {},
   "outputs": [],
   "source": [
    "# Datensatz entfernen\n",
    "\n",
    "df_outlier = df_red_col_cat.drop([70499,70499])"
   ]
  },
  {
   "cell_type": "code",
   "execution_count": null,
   "id": "likely-expression",
   "metadata": {},
   "outputs": [],
   "source": [
    "df_outlier.info()"
   ]
  },
  {
   "cell_type": "code",
   "execution_count": null,
   "id": "helpful-intellectual",
   "metadata": {},
   "outputs": [],
   "source": [
    "df_outlier.memory_usage()"
   ]
  },
  {
   "cell_type": "code",
   "execution_count": null,
   "id": "velvet-peeing",
   "metadata": {},
   "outputs": [],
   "source": [
    "df_red_col_cat.memory_usage()"
   ]
  },
  {
   "cell_type": "code",
   "execution_count": null,
   "id": "sublime-cleanup",
   "metadata": {},
   "outputs": [],
   "source": [
    "# Testen, ob Löschung erfolgreich\n",
    "\n",
    "df_outlier.iloc[70498:70500,:]"
   ]
  },
  {
   "cell_type": "code",
   "execution_count": null,
   "id": "italic-living",
   "metadata": {},
   "outputs": [],
   "source": [
    "# Testen, ob die Zeilenanzahl stimmt. Vor Löschung: 671205 Zeilen\n",
    "\n",
    "df_outlier.info()"
   ]
  },
  {
   "cell_type": "markdown",
   "id": "indie-homeless",
   "metadata": {},
   "source": [
    "Zeilenanzahl stimmt. \n",
    "\n",
    "Speicherplatz ist allerdings nach oben gegangen."
   ]
  },
  {
   "cell_type": "code",
   "execution_count": null,
   "id": "separate-objective",
   "metadata": {},
   "outputs": [],
   "source": [
    "# memory_usage anschauen.\n",
    "\n",
    "df_outlier.memory_usage()"
   ]
  },
  {
   "cell_type": "code",
   "execution_count": null,
   "id": "turkish-place",
   "metadata": {},
   "outputs": [],
   "source": [
    "# Vergleich zu Ausgangsdatensatz\n",
    "\n",
    "df_red_col_cat.memory_usage()"
   ]
  },
  {
   "cell_type": "markdown",
   "id": "thrown-singles",
   "metadata": {},
   "source": [
    "Index hat viel zu hohe Speicherwerte"
   ]
  },
  {
   "cell_type": "code",
   "execution_count": null,
   "id": "editorial-fifteen",
   "metadata": {},
   "outputs": [],
   "source": [
    "# korrekten Index wieder herstellen\n",
    "\n",
    "df_outlier.reset_index(inplace=True)"
   ]
  },
  {
   "cell_type": "code",
   "execution_count": null,
   "id": "sticky-canon",
   "metadata": {},
   "outputs": [],
   "source": [
    "# Testen, ob Speicher wieder runter geht.\n",
    "\n",
    "df_outlier.memory_usage()"
   ]
  },
  {
   "cell_type": "markdown",
   "id": "rotary-panel",
   "metadata": {},
   "source": [
    "Speicher wieder unten, allerdings ist der Index jetzt doppelt"
   ]
  },
  {
   "cell_type": "code",
   "execution_count": null,
   "id": "finished-trademark",
   "metadata": {},
   "outputs": [],
   "source": [
    "# Index Spalte mit hohem Speicher löschen\n",
    "\n",
    "df_outlier.drop(\"index\", axis=1, inplace=True)"
   ]
  },
  {
   "cell_type": "code",
   "execution_count": null,
   "id": "closed-opposition",
   "metadata": {},
   "outputs": [],
   "source": [
    "# Testen, ob Löschung erfolgreich war\n",
    "\n",
    "df_outlier.head(3)"
   ]
  },
  {
   "cell_type": "code",
   "execution_count": null,
   "id": "following-fabric",
   "metadata": {},
   "outputs": [],
   "source": [
    "# Testen, ob Löschung erfolgreich war\n",
    "\n",
    "df_outlier.memory_usage()"
   ]
  },
  {
   "cell_type": "code",
   "execution_count": null,
   "id": "offshore-abraham",
   "metadata": {},
   "outputs": [],
   "source": [
    "# Speichergröße feststellen\n",
    "\n",
    "df_outlier.info()"
   ]
  },
  {
   "cell_type": "markdown",
   "id": "little-panel",
   "metadata": {},
   "source": [
    "Ausreißer erfolgreich entfernt"
   ]
  },
  {
   "cell_type": "markdown",
   "id": "african-attraction",
   "metadata": {},
   "source": [
    "## Pairplot - nach Entfernung der Ausreißer"
   ]
  },
  {
   "cell_type": "code",
   "execution_count": null,
   "id": "satisfactory-program",
   "metadata": {},
   "outputs": [],
   "source": [
    "sns.pairplot(data=df_outlier, corner=True) "
   ]
  },
  {
   "cell_type": "code",
   "execution_count": null,
   "id": "geographic-blues",
   "metadata": {},
   "outputs": [],
   "source": [
    "# Vergleich mit describe() \n",
    "\n",
    "df_outlier.describe()"
   ]
  },
  {
   "cell_type": "markdown",
   "id": "experimental-judgment",
   "metadata": {},
   "source": [
    "### Erste inhaltliche Erkenntnisse\n",
    "\n",
    "__loan_amount vs funded_amount:__ \n",
    "\n",
    "- Höchster Wert sind 50.000USD\n",
    "- Der Großteil der Zielsumme liegt bei maximal 10.000USD, wobei häufig nicht die volle Summe ausgezahlt wird\n",
    "- Im Zielbereich von 50.000 USD wurde nur sehr geringer Teil voll ausgezahlt. \n",
    "\n",
    "__term in month vs funded/loan_amount:__\n",
    "\n",
    "- Optisch sieht es so aus, als ob über die Summen hinweg eine breite Dauer über die der Kredit ausgezahlt wurde.\n",
    "- Es gibt eine leichte Tendenz, dass Summen ab 20.000USD nicht über einen längeren Zeitraum als 40 Monate ausgezahlt werden. Dies könnte ggf. auch sehr länderspezifisch sein.\n",
    "\n",
    "__term in month vs lender count:__ \n",
    "\n",
    "- Klare Tendenz, dass bei Auszahlungsdauer über 50 Monate die Anzahl der Darlehensgeber die 300 kaum mhr überschreitet.\n",
    "\n",
    "__lender count vs funded/loan_amount:__\n",
    "\n",
    "- Deutlich sichtbar, dass je höher die Summe, desto mehr Geldgeber. Einzig bei 50.000USD ist eine deutliche Varianz in der Anzahl der Geldgeber zwischen 500 und 2.000 erkennbar.\n"
   ]
  },
  {
   "cell_type": "markdown",
   "id": "incorporate-campaign",
   "metadata": {},
   "source": [
    "## Prefinalen Datensatz erstellen"
   ]
  },
  {
   "cell_type": "code",
   "execution_count": null,
   "id": "specialized-karma",
   "metadata": {},
   "outputs": [],
   "source": [
    "df_prefinal = df_outlier.copy()"
   ]
  },
  {
   "cell_type": "code",
   "execution_count": null,
   "id": "dietary-vacation",
   "metadata": {},
   "outputs": [],
   "source": [
    "# Test, ob Kopie geklappt hat\n",
    "\n",
    "df_prefinal.info()"
   ]
  },
  {
   "cell_type": "code",
   "execution_count": null,
   "id": "humanitarian-wright",
   "metadata": {},
   "outputs": [],
   "source": [
    "# Test, ob Kopie geklappt hat\n",
    "\n",
    "df_prefinal.head(3)"
   ]
  },
  {
   "cell_type": "markdown",
   "id": "rising-wilson",
   "metadata": {},
   "source": [
    "Erstellung Kopie war erfolgreich"
   ]
  },
  {
   "cell_type": "markdown",
   "id": "terminal-merchandise",
   "metadata": {},
   "source": [
    "# Features"
   ]
  },
  {
   "cell_type": "markdown",
   "id": "metallic-crack",
   "metadata": {},
   "source": [
    "## Anfängliche Überlegungen \n",
    "\n",
    "### \"wildes\" Brainstorming\n",
    "\n",
    "\n",
    "\n",
    "__Erstes Brainstorming für Features:__\n",
    "- Neue Spalte für Verhältnis loan_amount ggü. funded_amount\n",
    "- tbd. country_code in dreistellig umwandeln, damit auch Betrachtungen auf einer map möglich sind.\n",
    "- ggf. mit cut() Funktion term_in_month und lender_count gruppieren\n",
    "- borrower_genders aufteilen nach je eine Spalte male, female und nan für detaillierte genderspezfische Auswertungen\n",
    "- ggf. mit cut() Funktion loan_amount gruppieren, für einfachere Übersicht\n",
    "\n",
    "\n",
    "__Die wirklich interessante Spalten können in zwei Themenbereiche geteit werden__: \n",
    "\n",
    "__1) \"Funding Landschaft\":__ Was, wer, wo, in welcher Höhe?\n",
    "- funded, int -> was, wer, wo, Höhe, Geschlecht\n",
    "- Zielbetrag, int\n",
    "- sector, cat -> Wo, Geschlecht, Höhe\n",
    "- country, cat -> Was, Höhe, Geschlecht\n",
    "- Geschlecht, cat\n",
    "- Teamgröße, int\n",
    "\n",
    "__2) Konditionen für Gründer und Investoren:__ Was sind Erfolgsfaktoren und welche Kreditbedingungen brauche ich?\n",
    "- term in months\n",
    "- lender_count\n",
    "- borrower_gender\n",
    "- repayment\n",
    "\n",
    "\n",
    "__Übergeordnete Fragestellungen für Gesamtbild__\n",
    "\n",
    "- Was für Projekte gibt es, werden gefunded?\n",
    "- Wo finden, welche Art von Projekten statt?\n",
    "- Welche Höhe haben sie und von wem werden sie durchgeführt?\n",
    "\n",
    "__Übergeordnete Fragestellung für Gründer und Investoren:__ \n",
    "- Gründer: wie erhalte ich einen möglichst hohen Betrag?\n",
    "- Investoren: wie minimiere ich das Risiko meine Investition zu verlieren\n",
    "\n",
    "Daraus folgt: was sind erfolgreiche Projekte, erfolgreiche Teams, was sind die jeweils bevorzugten Kreditkonditionen? repayment art, dauer (was ist besser? -> kürzere Auszahlungens, weil dann schnell über Geld verfügt werden kann), \n",
    "\n",
    "__Erfolgsmessung von Krediten:__ Eine direkte Erfolgskennziffer geht nicht aus dem Datensatz hervor. Mögliche Alternativen wären:\n",
    "- Absolute Fundinghöhe. Dies ist insbesondere für Gründer interessant\n",
    "- Verhältnis Zielbetrag zu tatsächlich erhaltenem Betrag\n",
    "\n",
    "__Teamgröße:__ Grdsl. Zusammensetzung und Größe interessant in Bezug auf Fundinghöhe und Fundingerfolg.\n",
    "\n",
    "__Lender_count:__ Anzahl interessant in Bezug auf Fundinghöhe und Fundingerfolg.\n",
    "\n",
    "__term in months:__ \n",
    "- Aus Sicht der Gründer scheint mir eine längere Dauer sinnvoll, da sie so mehr Zeit haben, den Kredit zurück zu zahlen.\n",
    "- Aus Sicht der Investoren scheint mir eine kürzere Dauer sinnvoll, da so ihre Investition eine kürzere Zeit dem Risiko ausgesetzt ist.\n",
    " \n",
    "__repayment interval:__ Präferenz sehr Geschäftsabhängig. Schwer eine klare Empfehlung für Investoren oder Gründer zu nennen.\n",
    "- weekly repayment scheint eher für kleine Kredite gegeben zu werden.\n",
    "- Bullet loans sind interessant für Geschäfte, die eher einzelne hohe Beträge erwirtschaften, als eine kontinuierliche, dauerhafte Einnahme. \n",
    "- irregular repayment scheinen individuell verhandelte Kredite zu sein. \n",
    "- monthly repayment ist die Häufigste Rückzahlungsart. \n",
    "- Bullet repayment: https://www.investopedia.com/terms/b/bulletrepayment.asp, https://en.wikipedia.org/wiki/Bullet_loan\n",
    "\n",
    "\n",
    "__Hilfreiche Visualisierungen:__\n",
    "- Scatterplot\n",
    "- Barplot mehrdimensional\n",
    "- sunburst\n",
    "- map\n",
    "ggf. Pieplot für Anfang\n",
    "\n",
    "\n",
    "### Überlegungen bzgl. Visualisierungen\n",
    "\n",
    "TEAMS\n",
    "\n",
    "Scatterplot für Zusammenhang Erfolgsquote/Funding Höhe mit lendercount, teams größe und Zusammensetzung\n",
    "\n",
    "facet plots: teamgröße klassen, male/femlae, Fundinghöhe, repayment, Erfolgsquote\n",
    "\n",
    "Verteilung Erfolgsquote nach sector und Teamgröße\n",
    "\n",
    "COUNTRY\n",
    "\n",
    "sunburst:  land,sektor, Betrag, Größe Teams -> ggf. teilen nach klein und groß ??\n",
    "country -> Häufigkeit je Country Balken + Linie absolute Höhe und mean funding  #\n",
    "        -> Anzahl Gründungen pro Land, Verteilung Sectoren pro Land, Höhe Funding pro Land \n",
    "         Balkenfarbe Größe Teams, ggf Zusatzkennzeichnung Geschlecht\n",
    "\n",
    "Anzahl Projekte pro Land?\n",
    "\n",
    "SECTOR\n",
    "\n",
    "sector -> Scatter Fundinghöhe pro sector als mean/median, Größe Teams Farbe der Kreise, Geschlecht Form der Kreise-> "
   ]
  },
  {
   "cell_type": "markdown",
   "id": "junior-secretary",
   "metadata": {},
   "source": [
    "## Feature Erstellung"
   ]
  },
  {
   "cell_type": "markdown",
   "id": "maritime-mexico",
   "metadata": {},
   "source": [
    "### Erfolgsquote Kreditvergabe"
   ]
  },
  {
   "cell_type": "code",
   "execution_count": null,
   "id": "advance-cookbook",
   "metadata": {},
   "outputs": [],
   "source": [
    "# loan_amount mit funded_amount ins Verhätlnis setzen und als neue Spalte einfügen\n",
    "\n",
    "df_prefinal.insert(2, \"success_ratio\", df_prefinal[\"funded_amount\"]/df_prefinal[\"loan_amount\"]*100)"
   ]
  },
  {
   "cell_type": "code",
   "execution_count": null,
   "id": "massive-malawi",
   "metadata": {},
   "outputs": [],
   "source": [
    "# Erfolgskategorien erstellen\n",
    "kategorien = [\"KleinerGleich50\", \"Größer50Kleiner100\", \"Gleich100\"]\n",
    "max_value = df_prefinal[\"success_ratio\"].max()\n",
    "einteilung = [0, 50.000001, 99.999999, max_value]\n",
    "df_prefinal[\"success_class\"] = pd.cut(df_prefinal[\"success_ratio\"], bins=einteilung, labels=kategorien)\n",
    "\n",
    "# In DataFrame einfügen\n",
    "list_success = df_prefinal[\"success_class\"].tolist()\n",
    "df_prefinal.insert(3,'success_classes',list_success)"
   ]
  },
  {
   "cell_type": "code",
   "execution_count": null,
   "id": "combined-entertainment",
   "metadata": {},
   "outputs": [],
   "source": [
    "# Test, ob erfolgreich\n",
    "\n",
    "df_prefinal"
   ]
  },
  {
   "cell_type": "markdown",
   "id": "exact-motel",
   "metadata": {},
   "source": [
    "### Anzahl und Geschlecht Teammitglieder"
   ]
  },
  {
   "cell_type": "code",
   "execution_count": null,
   "id": "attractive-light",
   "metadata": {},
   "outputs": [],
   "source": [
    "# male und female zählen\n",
    "\n",
    "male = []\n",
    "female = []\n",
    "\n",
    "for genders in df_prefinal[\"borrower_genders\"]:\n",
    "    try:\n",
    "        gender_list = genders.split(\", \")\n",
    "        gender_list = [gender[0] for gender in gender_list]\n",
    "        male.append(gender_list.count(\"m\"))\n",
    "        female.append(gender_list.count(\"f\"))\n",
    "    except AttributeError:\n",
    "        male.append(np.nan)\n",
    "        female.append(np.nan)\n",
    "        "
   ]
  },
  {
   "cell_type": "code",
   "execution_count": null,
   "id": "experienced-davis",
   "metadata": {},
   "outputs": [],
   "source": [
    "# Test, ob Listen erfolgreich erstellt\n",
    "\n",
    "male"
   ]
  },
  {
   "cell_type": "code",
   "execution_count": null,
   "id": "eligible-spine",
   "metadata": {},
   "outputs": [],
   "source": [
    "# Test, ob Listen erfolgreich erstellt\n",
    "\n",
    "female"
   ]
  },
  {
   "cell_type": "code",
   "execution_count": null,
   "id": "early-nowhere",
   "metadata": {},
   "outputs": [],
   "source": [
    "# male und female als eigene Spalten anhängen\n",
    "\n",
    "df_prefinal.insert(11, \"female\", female)\n",
    "df_prefinal.insert(12, \"male\", male)"
   ]
  },
  {
   "cell_type": "code",
   "execution_count": null,
   "id": "korean-locator",
   "metadata": {},
   "outputs": [],
   "source": [
    "# Team Gesamtgröße berechnen und in neuer Spalte anlegen\n",
    "\n",
    "df_prefinal.insert(11, \"team_count\", df_prefinal[\"female\"]+df_prefinal[\"male\"])"
   ]
  },
  {
   "cell_type": "code",
   "execution_count": null,
   "id": "congressional-railway",
   "metadata": {},
   "outputs": [],
   "source": [
    "# Test, ob Einfügungen erfoglreich \n",
    "\n",
    "df_prefinal"
   ]
  },
  {
   "cell_type": "code",
   "execution_count": null,
   "id": "faced-commission",
   "metadata": {},
   "outputs": [],
   "source": [
    "# Test, ob Einfügung erfoglreich \n",
    "\n",
    "df_prefinal.info()"
   ]
  },
  {
   "cell_type": "code",
   "execution_count": null,
   "id": "northern-monitoring",
   "metadata": {},
   "outputs": [],
   "source": [
    "# Spaltengröße anschauen\n",
    "\n",
    "df_prefinal.memory_usage()"
   ]
  },
  {
   "cell_type": "code",
   "execution_count": null,
   "id": "prostate-fraction",
   "metadata": {},
   "outputs": [],
   "source": [
    "# Downcasting der neuen Spalten\n",
    "\n",
    "df_prefinal[[\"team_count\", \"female\", \"male\"]] = df_prefinal[[\"team_count\", \"female\", \"male\"]].apply(pd.to_numeric, downcast=\"unsigned\")"
   ]
  },
  {
   "cell_type": "code",
   "execution_count": null,
   "id": "fitting-howard",
   "metadata": {},
   "outputs": [],
   "source": [
    "# Test, ob Downcasting erfolgreich\n",
    "\n",
    "df_prefinal.memory_usage()"
   ]
  },
  {
   "cell_type": "code",
   "execution_count": null,
   "id": "quarterly-sharp",
   "metadata": {},
   "outputs": [],
   "source": [
    "# Spalte borrower_genders entfernen\n",
    "\n",
    "df_prefinal.drop(\"borrower_genders\", axis=1, inplace=True)"
   ]
  },
  {
   "cell_type": "code",
   "execution_count": null,
   "id": "educated-unemployment",
   "metadata": {},
   "outputs": [],
   "source": [
    "# Test Gesamtgröße\n",
    "\n",
    "df_prefinal.info()"
   ]
  },
  {
   "cell_type": "markdown",
   "id": "alleged-georgia",
   "metadata": {},
   "source": [
    "### Aufteilung Teamgröße"
   ]
  },
  {
   "cell_type": "code",
   "execution_count": null,
   "id": "informative-excerpt",
   "metadata": {},
   "outputs": [],
   "source": [
    "# Verteilung Teamgröße \n",
    "\n",
    "df_team_member = df_prefinal.groupby(\"team_count\").size()\n",
    "df_team_member"
   ]
  },
  {
   "cell_type": "code",
   "execution_count": null,
   "id": "three-tobago",
   "metadata": {},
   "outputs": [],
   "source": [
    "# In Barplot anzeigen lassen, weil übersichtlicher\n",
    "\n",
    "fig = px.bar(df_team_member,\n",
    "             labels={'value':'Anzahl Funding Projekte', 'team_member_count':'Anzahl Teammitglieder'}, \n",
    "             height=500).update_xaxes(categoryorder=\"total ascending\")\n",
    "fig.show()"
   ]
  },
  {
   "cell_type": "code",
   "execution_count": null,
   "id": "hispanic-vietnamese",
   "metadata": {},
   "outputs": [],
   "source": [
    "# Kategorien erstellen\n",
    "\n",
    "kategorien = [\"1 person\", \"2 to 5 persons\", \"6 persons and more\"]\n",
    "\n",
    "max_value = df_prefinal[\"team_count\"].max()\n",
    "einteilung = [0, 1, 5, max_value]\n",
    "\n",
    "df_prefinal[\"team_category\"] = pd.cut(df_prefinal[\"team_count\"], bins=einteilung, labels=kategorien)\n",
    "df_prefinal"
   ]
  },
  {
   "cell_type": "markdown",
   "id": "advised-barrel",
   "metadata": {},
   "source": [
    "### Geschlechter Verteilung\n",
    "\n",
    "Überlegung, wie in einer Variablen das Geschlecht dargestellt werden kann.\n",
    "Mögliche Lösung: wo sind mehr Teammitglieder weiblich/männlich?"
   ]
  },
  {
   "cell_type": "code",
   "execution_count": null,
   "id": "impressed-economy",
   "metadata": {},
   "outputs": [],
   "source": [
    "# neue Spalte erstellen\n",
    "\n",
    "df_prefinal.insert(13, \"sex_majority\", np.nan)"
   ]
  },
  {
   "cell_type": "code",
   "execution_count": null,
   "id": "parliamentary-barcelona",
   "metadata": {},
   "outputs": [],
   "source": [
    "# Test, ob Einfügen erfolgreich\n",
    "\n",
    "df_prefinal"
   ]
  },
  {
   "cell_type": "code",
   "execution_count": null,
   "id": "caring-leader",
   "metadata": {},
   "outputs": [],
   "source": [
    "# Feststellen, wo welche Majorität vorliegt und entsprechend in Spalte einfügen\n",
    "\n",
    "df_prefinal.loc[(df_prefinal[\"female\"]>df_prefinal[\"male\"]), [\"sex_majority\"]] = \"female\"\n",
    "df_prefinal.loc[(df_prefinal[\"female\"]<df_prefinal[\"male\"]), [\"sex_majority\"]] = \"male\"\n",
    "df_prefinal.loc[(df_prefinal[\"female\"]==df_prefinal[\"male\"]), [\"sex_majority\"]] = \"equal\""
   ]
  },
  {
   "cell_type": "code",
   "execution_count": null,
   "id": "moderate-collection",
   "metadata": {},
   "outputs": [],
   "source": [
    "# Test, ob Einfügung der Majorität funktioniert hat\n",
    "\n",
    "df_prefinal"
   ]
  },
  {
   "cell_type": "code",
   "execution_count": null,
   "id": "broken-notification",
   "metadata": {},
   "outputs": [],
   "source": [
    "# Test, ob Einfügung der Majorität funktioniert hat\n",
    "\n",
    "df_prefinal.groupby(\"sex_majority\").size()"
   ]
  },
  {
   "cell_type": "markdown",
   "id": "individual-castle",
   "metadata": {},
   "source": [
    "### Aufteilung der Länder nach Kontinenten"
   ]
  },
  {
   "cell_type": "code",
   "execution_count": null,
   "id": "marked-sauce",
   "metadata": {},
   "outputs": [],
   "source": [
    "# Einlesen der csv mit Ländercode - Kontinente Zuweisung\n",
    "\n",
    "df_cont = pd.read_excel(\"countrycodes.xlsx\")\n",
    "df_cont.head()"
   ]
  },
  {
   "cell_type": "code",
   "execution_count": null,
   "id": "sweet-assistant",
   "metadata": {},
   "outputs": [],
   "source": [
    "# Datensätze zusammenfügen\n",
    "\n",
    "df_prefinal_cont = pd.merge(df_prefinal, df_cont[[\"country_code\", \"cont\"]], on= \"country_code\", how=\"left\")"
   ]
  },
  {
   "cell_type": "code",
   "execution_count": null,
   "id": "minimal-qatar",
   "metadata": {},
   "outputs": [],
   "source": [
    "# Test, ob erfolgreich\n",
    "\n",
    "df_prefinal_cont"
   ]
  },
  {
   "cell_type": "code",
   "execution_count": null,
   "id": "textile-gather",
   "metadata": {},
   "outputs": [],
   "source": [
    "# Liste Kontinente erstellen\n",
    "\n",
    "list_cont = df_prefinal_cont[\"cont\"].tolist()"
   ]
  },
  {
   "cell_type": "code",
   "execution_count": null,
   "id": "editorial-racing",
   "metadata": {},
   "outputs": [],
   "source": [
    "# Spalte einfügen\n",
    "\n",
    "df_prefinal.insert(6,'continent',list_cont)\n",
    "df_prefinal"
   ]
  },
  {
   "cell_type": "code",
   "execution_count": null,
   "id": "underlying-might",
   "metadata": {},
   "outputs": [],
   "source": [
    "# Nach fehlenden Werten/Synonymen schauen\n",
    "\n",
    "df_prefinal[\"continent\"].unique()"
   ]
  },
  {
   "cell_type": "code",
   "execution_count": null,
   "id": "becoming-martin",
   "metadata": {},
   "outputs": [],
   "source": [
    "# nan anschauen\n",
    "\n",
    "df_prefinal.loc[(df_prefinal[\"continent\"].isnull())]"
   ]
  },
  {
   "cell_type": "markdown",
   "id": "revised-equivalent",
   "metadata": {},
   "source": [
    "Kosovo ist in eingelesener Kontinent-Tabelle nicht enthalten"
   ]
  },
  {
   "cell_type": "code",
   "execution_count": null,
   "id": "extra-driver",
   "metadata": {},
   "outputs": [],
   "source": [
    "# Kosovo Europa zuordnen\n",
    "\n",
    "df_prefinal.loc[(df_prefinal[\"country\"] == \"Kosovo\") , [\"continent\"]] = \"Europe\""
   ]
  },
  {
   "cell_type": "code",
   "execution_count": null,
   "id": "widespread-minister",
   "metadata": {},
   "outputs": [],
   "source": [
    "# test, ob erfolgreich\n",
    "\n",
    "df_prefinal.loc[(df_prefinal[\"country\"] == \"Kosovo\") , :]"
   ]
  },
  {
   "cell_type": "code",
   "execution_count": null,
   "id": "periodic-adams",
   "metadata": {},
   "outputs": [],
   "source": [
    "# nan anschauen\n",
    "\n",
    "df_prefinal.loc[(df_prefinal[\"continent\"].isnull())]"
   ]
  },
  {
   "cell_type": "markdown",
   "id": "molecular-bandwidth",
   "metadata": {},
   "source": [
    "Namibia und South Sudan ist in eingelesener Kontinent-Tabelle nicht enthalten"
   ]
  },
  {
   "cell_type": "code",
   "execution_count": null,
   "id": "clinical-calcium",
   "metadata": {},
   "outputs": [],
   "source": [
    "# Namibia Afrika zuordnen\n",
    "\n",
    "df_prefinal.loc[(df_prefinal[\"country\"] == \"Namibia\") , [\"continent\"]] = \"Africa\""
   ]
  },
  {
   "cell_type": "code",
   "execution_count": null,
   "id": "accomplished-dominant",
   "metadata": {},
   "outputs": [],
   "source": [
    "# test, ob erfolgreich\n",
    "\n",
    "df_prefinal.loc[(df_prefinal[\"country\"] == \"Namibia\") , :]"
   ]
  },
  {
   "cell_type": "code",
   "execution_count": null,
   "id": "danish-humanitarian",
   "metadata": {},
   "outputs": [],
   "source": [
    "# South Sudan Afrika zuordnen\n",
    "\n",
    "df_prefinal.loc[(df_prefinal[\"country\"] == \"South Sudan\") , [\"continent\"]] = \"Africa\""
   ]
  },
  {
   "cell_type": "code",
   "execution_count": null,
   "id": "liable-snapshot",
   "metadata": {},
   "outputs": [],
   "source": [
    "# Test, ob erfolgreich\n",
    "\n",
    "df_prefinal.loc[(df_prefinal[\"country\"] == \"South Sudan\") , :]"
   ]
  },
  {
   "cell_type": "code",
   "execution_count": null,
   "id": "prescription-sender",
   "metadata": {},
   "outputs": [],
   "source": [
    "# nan anschauen\n",
    "\n",
    "df_prefinal.loc[(df_prefinal[\"continent\"].isnull())]"
   ]
  },
  {
   "cell_type": "markdown",
   "id": "respiratory-absorption",
   "metadata": {},
   "source": [
    "Keine weiteren NaN mehr in Kontinent"
   ]
  },
  {
   "cell_type": "markdown",
   "id": "significant-subscriber",
   "metadata": {},
   "source": [
    "### Datensatz ohne NaN und 0 funded_amount für bestimmte Graphiken"
   ]
  },
  {
   "cell_type": "code",
   "execution_count": null,
   "id": "productive-pregnancy",
   "metadata": {},
   "outputs": [],
   "source": [
    "# Datensatz erstellen ohne Null-Werte und 0 in funded_amount\n",
    "\n",
    "# dropna - Datensatz: Nullwerte nach Konvention entfernen.\n",
    "df_final_dropna = df_prefinal.dropna()\n",
    "# 4.221 Projekte entfernt (0,06% des Gesamtdatensatzes), weil Nullwerte in ursprünglichen Variablen \n",
    "# zur Teamzusammenstellung (borrower_genders) enthalten sind. dropna Datensatz enthält 666.983 Projekte.\n",
    "\n",
    "# Datensatz dropna-funding: Projekte ohne Funding (fundend_amount = 0) entfernen\n",
    "df_dropna_funding = df_final_dropna.loc[df_final_dropna[\"funded_amount\"]!=0, :]\n",
    "df_dropna_funding\n",
    "# 3.254 Datensätze entfernt (0,05% des dropna Datensatzes), weil funded_amount = 0.\n",
    "# Datensatz enthält 663.724 Projekte\n",
    "\n",
    "# Insgesamt wurden 7.475 Projekte entfernt (1,1% des Gesamtdatensatze)"
   ]
  },
  {
   "cell_type": "code",
   "execution_count": null,
   "id": "continuous-comparison",
   "metadata": {},
   "outputs": [],
   "source": [
    "# Test, ob erfolgreich\n",
    "\n",
    "df_dropna_funding.info()"
   ]
  },
  {
   "cell_type": "markdown",
   "id": "medium-coordination",
   "metadata": {},
   "source": [
    "# Finalen Datensatz erstellen und abspeichern"
   ]
  },
  {
   "cell_type": "markdown",
   "id": "changed-rotation",
   "metadata": {},
   "source": [
    "## Datensatz erstellen"
   ]
  },
  {
   "cell_type": "code",
   "execution_count": null,
   "id": "little-person",
   "metadata": {},
   "outputs": [],
   "source": [
    "# Abschliessend finalen DataFrame abspeichern\n",
    "\n",
    "df_final = df_prefinal.copy()"
   ]
  },
  {
   "cell_type": "code",
   "execution_count": null,
   "id": "alpha-tanzania",
   "metadata": {},
   "outputs": [],
   "source": [
    "# Test, ob Kopie erfolgreich\n",
    "\n",
    "df_final.info()"
   ]
  },
  {
   "cell_type": "code",
   "execution_count": null,
   "id": "biblical-hindu",
   "metadata": {},
   "outputs": [],
   "source": [
    "# Test, ob Kopie erfolgreich\n",
    "\n",
    "df_final"
   ]
  },
  {
   "cell_type": "markdown",
   "id": "interior-weekly",
   "metadata": {},
   "source": [
    "Kopie war erfolgreich. Im folgenden kann mit der finalen Datei gearbeitet werden."
   ]
  },
  {
   "cell_type": "markdown",
   "id": "academic-adjustment",
   "metadata": {},
   "source": [
    "## Datensatz abspeichern"
   ]
  },
  {
   "cell_type": "code",
   "execution_count": null,
   "id": "unique-weapon",
   "metadata": {},
   "outputs": [],
   "source": [
    "# als csv speichern\n",
    "\n",
    "df_final.to_csv(\"df_final.csv\")"
   ]
  },
  {
   "cell_type": "code",
   "execution_count": null,
   "id": "rocky-event",
   "metadata": {},
   "outputs": [],
   "source": [
    "# Datensatz df_dropna_funding als csv speichern\n",
    "\n",
    "df_dropna_funding.to_csv(\"df_dropna_funding\")"
   ]
  }
 ],
 "metadata": {
  "kernelspec": {
   "display_name": "Python 3",
   "language": "python",
   "name": "python3"
  },
  "language_info": {
   "codemirror_mode": {
    "name": "ipython",
    "version": 3
   },
   "file_extension": ".py",
   "mimetype": "text/x-python",
   "name": "python",
   "nbconvert_exporter": "python",
   "pygments_lexer": "ipython3",
   "version": "3.8.5"
  },
  "toc": {
   "base_numbering": 1,
   "nav_menu": {},
   "number_sections": true,
   "sideBar": true,
   "skip_h1_title": false,
   "title_cell": "Table of Contents",
   "title_sidebar": "Contents",
   "toc_cell": false,
   "toc_position": {
    "height": "calc(100% - 180px)",
    "left": "10px",
    "top": "150px",
    "width": "413px"
   },
   "toc_section_display": true,
   "toc_window_display": true
  },
  "varInspector": {
   "cols": {
    "lenName": 16,
    "lenType": 16,
    "lenVar": 40
   },
   "kernels_config": {
    "python": {
     "delete_cmd_postfix": "",
     "delete_cmd_prefix": "del ",
     "library": "var_list.py",
     "varRefreshCmd": "print(var_dic_list())"
    },
    "r": {
     "delete_cmd_postfix": ") ",
     "delete_cmd_prefix": "rm(",
     "library": "var_list.r",
     "varRefreshCmd": "cat(var_dic_list()) "
    }
   },
   "types_to_exclude": [
    "module",
    "function",
    "builtin_function_or_method",
    "instance",
    "_Feature"
   ],
   "window_display": false
  }
 },
 "nbformat": 4,
 "nbformat_minor": 5
}
